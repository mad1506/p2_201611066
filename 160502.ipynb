{
 "cells": [
  {
   "cell_type": "code",
   "execution_count": 1,
   "metadata": {
    "collapsed": false
   },
   "outputs": [
    {
     "name": "stdout",
     "output_type": "stream",
     "text": [
      "{'a': 1, ' ': 1, 'e': 1, 'g': 2, 'i': 2, 'm': 1, 'n': 3, 's': 2, 'r': 1, 'u': 2, 't': 1, 'v': 1, 'y': 2}\n"
     ]
    }
   ],
   "source": [
    "sentence=\"sangmyung university\"\n",
    "mydict=dict()\n",
    "for i in sentence:\n",
    "    if i not in mydict:\n",
    "        mydict[i]=1\n",
    "    else:\n",
    "        mydict[i]=mydict[i]+1\n",
    "print mydict"
   ]
  },
  {
   "cell_type": "code",
   "execution_count": 2,
   "metadata": {
    "collapsed": false
   },
   "outputs": [
    {
     "name": "stdout",
     "output_type": "stream",
     "text": [
      "['a', ' ', 'e', 'g', 'i', 'm', 'n', 's', 'r', 'u', 't', 'v', 'y']\n"
     ]
    }
   ],
   "source": [
    "print mydict.keys()"
   ]
  },
  {
   "cell_type": "markdown",
   "metadata": {},
   "source": [
    "* 함수명 charCount\n",
    "* 입력 word\n",
    "* 출력 dict"
   ]
  },
  {
   "cell_type": "code",
   "execution_count": 10,
   "metadata": {
    "collapsed": false
   },
   "outputs": [],
   "source": [
    "def charCount(word):\n",
    "    mydict=dict()\n",
    "    for i in word:\n",
    "        if i not in mydict:\n",
    "            mydict[i]=1\n",
    "        else:\n",
    "                mydict[i]=mydict[i]+1\n",
    "    return mydict"
   ]
  },
  {
   "cell_type": "code",
   "execution_count": 16,
   "metadata": {
    "collapsed": false
   },
   "outputs": [
    {
     "data": {
      "image/png": "[encoded data removed]",
      "text/plain": [
       "<matplotlib.figure.Figure at 0x913f7f0>"
      ]
     },
     "metadata": {},
     "output_type": "display_data"
    }
   ],
   "source": [
    "%matplotlib inline\n",
    "\n",
    "import matplotlib\n",
    "import matplotlib.pyplot as plt\n",
    "\n",
    "plt.bar(range(len(mydict)),mydict.values(), align='center')\n",
    "plt.xticks(range(len(mydict)), list(mydict.keys()))\n",
    "plt.show()"
   ]
  },
  {
   "cell_type": "code",
   "execution_count": 11,
   "metadata": {
    "collapsed": false
   },
   "outputs": [
    {
     "data": {
      "text/plain": [
       "{' ': 1,\n",
       " 'a': 2,\n",
       " 'd': 1,\n",
       " 'e': 2,\n",
       " 'f': 1,\n",
       " 'i': 1,\n",
       " 'm': 1,\n",
       " 'o': 1,\n",
       " 'r': 1,\n",
       " 's': 1,\n",
       " 't': 1,\n",
       " 'w': 1}"
      ]
     },
     "execution_count": 11,
     "metadata": {},
     "output_type": "execute_result"
    }
   ],
   "source": [
    "word=\"media software\"\n",
    "charCount(word)"
   ]
  },
  {
   "cell_type": "code",
   "execution_count": 1,
   "metadata": {
    "collapsed": false
   },
   "outputs": [
    {
     "name": "stdout",
     "output_type": "stream",
     "text": [
      "7 hongjidong\n"
     ]
    }
   ],
   "source": [
    "sentence=\"7 hongjidong\"\n",
    "print sentence"
   ]
  },
  {
   "cell_type": "code",
   "execution_count": 3,
   "metadata": {
    "collapsed": false
   },
   "outputs": [
    {
     "name": "stdout",
     "output_type": "stream",
     "text": [
      "<type 'str'>\n"
     ]
    }
   ],
   "source": [
    "print type('a')"
   ]
  },
  {
   "cell_type": "code",
   "execution_count": 5,
   "metadata": {
    "collapsed": false
   },
   "outputs": [
    {
     "name": "stdout",
     "output_type": "stream",
     "text": [
      "False\n",
      "True\n"
     ]
    }
   ],
   "source": [
    "print 'a'.isdigit()\n",
    "print '1'.isdigit()"
   ]
  },
  {
   "cell_type": "code",
   "execution_count": 6,
   "metadata": {
    "collapsed": false
   },
   "outputs": [
    {
     "name": "stdout",
     "output_type": "stream",
     "text": [
      "True\n",
      "False\n"
     ]
    }
   ],
   "source": [
    "print 'a'.isalpha()\n",
    "print '1'.isalpha()"
   ]
  },
  {
   "cell_type": "code",
   "execution_count": 17,
   "metadata": {
    "collapsed": false,
    "scrolled": true
   },
   "outputs": [
    {
     "name": "stdout",
     "output_type": "stream",
     "text": [
      "{' ': 1, 'd': 1, 'g': 2, 'i': 1, 'h': 1, 'j': 1, 'o': 2, 'n': 2, '7': 1}\n",
      "[' ', 'd', 'g', 'i', 'h', 'j', 'o', 'n', '7']\n",
      "[1, 1, 2, 1, 1, 1, 2, 2, 1]\n"
     ]
    }
   ],
   "source": [
    "mydict=dict()\n",
    "for i in sentence:\n",
    "    if i.isdigit():\n",
    "        if i not in mydict:\n",
    "            mydict[i]=1\n",
    "        else:\n",
    "            mydict[i]=mydict[i]+1\n",
    "    else:\n",
    "        if i not in mydict:\n",
    "            mydict[i]=1\n",
    "        else:\n",
    "            mydict[i]=mydict[i]+1\n",
    "print mydict\n",
    "print mydict.keys()\n",
    "print mydict.values()"
   ]
  },
  {
   "cell_type": "code",
   "execution_count": 18,
   "metadata": {
    "collapsed": false
   },
   "outputs": [
    {
     "data": {
      "image/png": "[encoded data removed]",
      "text/plain": [
       "<matplotlib.figure.Figure at 0x4b9d9d0>"
      ]
     },
     "metadata": {},
     "output_type": "display_data"
    }
   ],
   "source": [
    "%matplotlib inline\n",
    "\n",
    "import matplotlib\n",
    "import matplotlib.pyplot as plt\n",
    "\n",
    "plt.bar(range(len(mydict)),mydict.values(), align='center')\n",
    "plt.xticks(range(len(mydict)), list(mydict.keys()))\n",
    "plt.show()"
   ]
  },
  {
   "cell_type": "markdown",
   "metadata": {},
   "source": [
    "* 함수명 countDigitsLetters(word):dict\n",
    "* 입력 argument word\n",
    "* 출력 dict"
   ]
  },
  {
   "cell_type": "code",
   "execution_count": 20,
   "metadata": {
    "collapsed": false
   },
   "outputs": [
    {
     "name": "stdout",
     "output_type": "stream",
     "text": [
      "set(['a'])\n"
     ]
    }
   ],
   "source": [
    "x=set(['a'])\n",
    "print x"
   ]
  },
  {
   "cell_type": "code",
   "execution_count": 21,
   "metadata": {
    "collapsed": false
   },
   "outputs": [
    {
     "name": "stdout",
     "output_type": "stream",
     "text": [
      "set(['a', 'c', 'b'])\n"
     ]
    }
   ],
   "source": [
    "x={'a','b','c','c'}\n",
    "print x"
   ]
  },
  {
   "cell_type": "code",
   "execution_count": 22,
   "metadata": {
    "collapsed": false
   },
   "outputs": [
    {
     "name": "stdout",
     "output_type": "stream",
     "text": [
      "set(['d'])\n"
     ]
    }
   ],
   "source": [
    "y={'d'}\n",
    "\n",
    "print y"
   ]
  },
  {
   "cell_type": "code",
   "execution_count": 23,
   "metadata": {
    "collapsed": false
   },
   "outputs": [
    {
     "name": "stdout",
     "output_type": "stream",
     "text": [
      "set(['a', 'c', 'b', 'd'])\n"
     ]
    }
   ],
   "source": [
    "print x.union(y)"
   ]
  },
  {
   "cell_type": "code",
   "execution_count": 25,
   "metadata": {
    "collapsed": false
   },
   "outputs": [
    {
     "name": "stdout",
     "output_type": "stream",
     "text": [
      "set(['a', 'c', 'b'])\n",
      "set(['a', 'c', 'b'])\n"
     ]
    }
   ],
   "source": [
    "print x-y\n",
    "print x.difference(y)"
   ]
  },
  {
   "cell_type": "markdown",
   "metadata": {},
   "source": [
    "* 우리 집에 없지만 친구 집에 있는 가전제품 찾기."
   ]
  },
  {
   "cell_type": "code",
   "execution_count": 28,
   "metadata": {
    "collapsed": true
   },
   "outputs": [],
   "source": [
    "ourhome={'TV','phone','camera','fridger','mixer','audio','cd player','light','computer','notebook','recorder'}\n",
    "frihome={'coffee machine','radio','camera','running machine','ramp','computer','notebook','recorder'}"
   ]
  },
  {
   "cell_type": "code",
   "execution_count": 29,
   "metadata": {
    "collapsed": false
   },
   "outputs": [
    {
     "name": "stdout",
     "output_type": "stream",
     "text": [
      "set(['radio', 'ramp', 'running machine', 'coffee machine'])\n"
     ]
    }
   ],
   "source": [
    "print frihome.difference(ourhome)"
   ]
  },
  {
   "cell_type": "code",
   "execution_count": 31,
   "metadata": {
    "collapsed": false
   },
   "outputs": [
    {
     "name": "stdout",
     "output_type": "stream",
     "text": [
      "set(['TV', 'light', 'mixer', 'phone', 'fridger', 'cd player', 'audio'])\n"
     ]
    }
   ],
   "source": [
    "print ourhome.difference(frihome)"
   ]
  },
  {
   "cell_type": "code",
   "execution_count": 30,
   "metadata": {
    "collapsed": false
   },
   "outputs": [
    {
     "name": "stdout",
     "output_type": "stream",
     "text": [
      "set(['TV', 'light', 'ramp', 'notebook', 'mixer', 'running machine', 'phone', 'computer', 'fridger', 'coffee machine', 'cd player', 'radio', 'recorder', 'audio', 'camera'])\n"
     ]
    }
   ],
   "source": [
    "print ourhome.union(frihome)"
   ]
  },
  {
   "cell_type": "code",
   "execution_count": 33,
   "metadata": {
    "collapsed": false
   },
   "outputs": [
    {
     "name": "stdout",
     "output_type": "stream",
     "text": [
      "set(['camera', 'recorder', 'computer', 'notebook'])\n"
     ]
    }
   ],
   "source": [
    "print ourhome.intersection(frihome)"
   ]
  }
 ],
 "metadata": {
  "kernelspec": {
   "display_name": "Python 2",
   "language": "python",
   "name": "python2"
  },
  "language_info": {
   "codemirror_mode": {
    "name": "ipython",
    "version": 2
   },
   "file_extension": ".py",
   "mimetype": "text/x-python",
   "name": "python",
   "nbconvert_exporter": "python",
   "pygments_lexer": "ipython2",
   "version": "2.7.10"
  }
 },
 "nbformat": 4,
 "nbformat_minor": 0
}
