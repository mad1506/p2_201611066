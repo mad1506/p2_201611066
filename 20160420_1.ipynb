{
 "cells": [
  {
   "cell_type": "markdown",
   "metadata": {},
   "source": [
    "## 데이터구조-4 거북이가 걸어간 트랙을 다시 걷게 하기\n",
    "\n",
    "### 4-1 거북이가 걸어간 트랙을 저장하기\n",
    "\n",
    "* wk2에 작성했던 myMaze.py의 위치를 모두 저장한다.\n",
    "* mytracks\n",
    "\n",
    "### 4-2 트랙을 자동으로 걷게하기 -> replay\n",
    "\n",
    "* 함수\n",
    "    * 함수명 replayTracks(mytracks)\n",
    "    * 입력변수\n",
    "        * mytracks\n",
    "        * 출력 none\n",
    "       "
   ]
  },
  {
   "cell_type": "code",
   "execution_count": 14,
   "metadata": {
    "collapsed": true
   },
   "outputs": [],
   "source": [
    "def drawSquareAt2(size, pos):\n",
    "    global track\n",
    "    t1.penup()\n",
    "    t1.setpos(pos)\n",
    "    t1.pendown()\n",
    "    track=list()\n",
    "    for i in range(0,4):\n",
    "        track.append(t1.pos())\n",
    "        t1.forward(size)\n",
    "        t1.right(90)\n",
    "    return track"
   ]
  },
  {
   "cell_type": "code",
   "execution_count": 13,
   "metadata": {
    "collapsed": false
   },
   "outputs": [
    {
     "data": {
      "text/plain": [
       "[(-200.00,200.00), (-100.00,200.00), (-100.00,100.00), (-200.00,100.00)]"
      ]
     },
     "execution_count": 13,
     "metadata": {},
     "output_type": "execute_result"
    }
   ],
   "source": [
    "drawSquareAt2(100,(-200,200))"
   ]
  },
  {
   "cell_type": "code",
   "execution_count": 15,
   "metadata": {
    "collapsed": true
   },
   "outputs": [],
   "source": [
    "def replayTracks(track):\n",
    "    for i in range(0,4):\n",
    "        t1.goto(track[i])"
   ]
  },
  {
   "cell_type": "code",
   "execution_count": 16,
   "metadata": {
    "collapsed": false
   },
   "outputs": [
    {
     "ename": "NameError",
     "evalue": "name 'track' is not defined",
     "output_type": "error",
     "traceback": [
      "\u001b[1;31m---------------------------------------------------------------------------\u001b[0m",
      "\u001b[1;31mNameError\u001b[0m                                 Traceback (most recent call last)",
      "\u001b[1;32m<ipython-input-16-df4537cb1cbe>\u001b[0m in \u001b[0;36m<module>\u001b[1;34m()\u001b[0m\n\u001b[1;32m----> 1\u001b[1;33m \u001b[0mreplayTracks\u001b[0m\u001b[1;33m(\u001b[0m\u001b[0mtrack\u001b[0m\u001b[1;33m)\u001b[0m\u001b[1;33m\u001b[0m\u001b[0m\n\u001b[0m",
      "\u001b[1;31mNameError\u001b[0m: name 'track' is not defined"
     ]
    }
   ],
   "source": [
    "replayTracks(track)"
   ]
  },
  {
   "cell_type": "code",
   "execution_count": 34,
   "metadata": {
    "collapsed": false
   },
   "outputs": [],
   "source": [
    "global track\n",
    "track=list()\n",
    "\n",
    "def maze():\n",
    "\n",
    "    t1.speed(1)\n",
    "    t1.penup()\n",
    "    t1.goto(-400,300)\n",
    "    track.append(t1.pos())\n",
    "    t1.pendown()\n",
    "    t1.pencolor(\"Red\")\n",
    "    t1.right(90)\n",
    "    t1.fd(400)\n",
    "    track.append(t1.pos())\n",
    "    t1.backward(150)\n",
    "    track.append(t1.pos())\n",
    "    t1.left(90)\n",
    "    t1.fd(300)\n",
    "    track.append(t1.pos())\n",
    "    t1.left(90)\n",
    "    t1.fd(300)\n",
    "    track.append(t1.pos())\n",
    "    t1.back(150)\n",
    "    track.append(t1.pos())\n",
    "    t1.right(90)\n",
    "    t1.fd(300)\n",
    "    track.append(t1.pos())\n",
    "    t1.left(90)\n",
    "    t1.right(90)\n",
    "    t1.right(90)\n",
    "    t1.fd(200)\n",
    "    track.append(t1.pos())\n",
    "    t1.fd(300)\n",
    "    track.append(t1.pos())\n",
    "    t1.back(100)\n",
    "    track.append(t1.pos())\n",
    "    t1.left(90)\n",
    "    t1.fd(200)\n",
    "    track.append(t1.pos())\n"
   ]
  },
  {
   "cell_type": "code",
   "execution_count": 80,
   "metadata": {
    "collapsed": false
   },
   "outputs": [],
   "source": [
    "def replayTracks(track):\n",
    "    t1.clear()\n",
    "    t1.speed(7)\n",
    "    t1.penup()\n",
    "    t1.goto(-400,300)\n",
    "    track.append(t1.pos())\n",
    "    t1.pendown()\n",
    "    t1.pencolor(\"Red\")\n",
    "    t1.right(90)\n",
    "    t1.fd(400)\n",
    "    track.append(t1.pos())\n",
    "    t1.backward(150)\n",
    "    track.append(t1.pos())\n",
    "    t1.left(90)\n",
    "    t1.fd(300)\n",
    "    track.append(t1.pos())\n",
    "    t1.left(90)\n",
    "    t1.fd(300)\n",
    "    track.append(t1.pos())\n",
    "    t1.back(150)\n",
    "    track.append(t1.pos())\n",
    "    t1.right(90)\n",
    "    t1.fd(300)\n",
    "    track.append(t1.pos())\n",
    "    t1.left(90)\n",
    "    t1.right(90)\n",
    "    t1.right(90)\n",
    "    t1.fd(200)\n",
    "    track.append(t1.pos())\n",
    "    t1.fd(300)\n",
    "    track.append(t1.pos())\n",
    "    t1.back(100)\n",
    "    track.append(t1.pos())\n",
    "    t1.left(90)\n",
    "    t1.fd(200)\n",
    "    track.append(t1.pos())\n",
    "    for i in range(0,10):\n",
    "        t1.color(\"blue\")\n",
    "        t1.goto(track[i])\n",
    "replayTracks(track)"
   ]
  },
  {
   "cell_type": "markdown",
   "metadata": {},
   "source": [
    "* myMaze.py 프로그램 가져오기\n",
    "\n",
    "* mytracks 저장하기\n",
    "    * 어떤 데이터구조를 사용할까? -> 리스트\n",
    "        * 늘어나고\n",
    "        * 순서가 있고\n",
    "    * 리스트를 사용하려면\n",
    "        * 선언 -> 처음 위치 stop이 발생하는 10번째 줄 전에 선언\n",
    "        * 저장 -> 매 stop마다 저장"
   ]
  },
  {
   "cell_type": "code",
   "execution_count": 33,
   "metadata": {
    "collapsed": false
   },
   "outputs": [
    {
     "ename": "TypeError",
     "evalue": "'list' object is not callable",
     "output_type": "error",
     "traceback": [
      "\u001b[1;31m---------------------------------------------------------------------------\u001b[0m",
      "\u001b[1;31mTypeError\u001b[0m                                 Traceback (most recent call last)",
      "\u001b[1;32m<ipython-input-33-6fa04af6a0cc>\u001b[0m in \u001b[0;36m<module>\u001b[1;34m()\u001b[0m\n\u001b[1;32m----> 1\u001b[1;33m \u001b[0mtrack\u001b[0m\u001b[1;33m(\u001b[0m\u001b[1;36m0\u001b[0m\u001b[1;33m)\u001b[0m\u001b[1;33m\u001b[0m\u001b[0m\n\u001b[0m",
      "\u001b[1;31mTypeError\u001b[0m: 'list' object is not callable"
     ]
    }
   ],
   "source": []
  },
  {
   "cell_type": "code",
   "execution_count": 19,
   "metadata": {
    "collapsed": false
   },
   "outputs": [],
   "source": [
    "t1.clear()\n",
    "maze()"
   ]
  },
  {
   "cell_type": "code",
   "execution_count": 11,
   "metadata": {
    "collapsed": true
   },
   "outputs": [],
   "source": [
    "import turtle\n",
    "wn=turtle.Screen()\n",
    "t1=turtle.Turtle()"
   ]
  },
  {
   "cell_type": "code",
   "execution_count": 81,
   "metadata": {
    "collapsed": true
   },
   "outputs": [],
   "source": [
    "t1.clear()"
   ]
  },
  {
   "cell_type": "code",
   "execution_count": 92,
   "metadata": {
    "collapsed": true
   },
   "outputs": [],
   "source": [
    "import turtle\n",
    "wn=turtle.Screen()\n",
    "#wn.bgpic(\"myMaze.gif\")\n",
    "t1=turtle.Turtle()\n",
    "t1.speed(6)\n",
    "t1.penup()\n",
    "\n",
    "myTracks=list()\n",
    "\n",
    "t1.goto(-400,300)\n",
    "myTracks.append(t1.pos())\n",
    "t1.pendown()\n",
    "t1.pencolor(\"Red\")\n",
    "t1.right(90)\n",
    "t1.fd(400)\n",
    "myTracks.append(t1.pos())\n",
    "t1.backward(150)\n",
    "myTracks.append(t1.pos())\n",
    "t1.left(90)\n",
    "t1.fd(300)\n",
    "myTracks.append(t1.pos())\n",
    "t1.left(90)\n",
    "t1.fd(300)\n",
    "myTracks.append(t1.pos())\n",
    "t1.back(150)\n",
    "myTracks.append(t1.pos())\n",
    "t1.right(90)\n",
    "t1.fd(300)\n",
    "myTracks.append(t1.pos())\n",
    "t1.left(90)\n",
    "t1.right(90)\n",
    "t1.right(90)\n",
    "t1.fd(200)\n",
    "myTracks.append(t1.pos())\n",
    "t1.fd(300)\n",
    "myTracks.append(t1.pos())\n",
    "t1.back(100)\n",
    "myTracks.append(t1.pos())\n",
    "t1.left(90)\n",
    "t1.fd(200)\n",
    "myTracks.append(t1.pos())"
   ]
  },
  {
   "cell_type": "code",
   "execution_count": 83,
   "metadata": {
    "collapsed": false
   },
   "outputs": [
    {
     "name": "stdout",
     "output_type": "stream",
     "text": [
      "[(-400.00,300.00), (-400.00,-100.00), (-400.00,50.00), (-100.00,50.00), (-100.00,350.00), (200.00,200.00), (200.00,0.00), (200.00,-300.00), (200.00,-200.00), (400.00,-200.00)]\n"
     ]
    }
   ],
   "source": [
    "print myTracks"
   ]
  },
  {
   "cell_type": "code",
   "execution_count": 106,
   "metadata": {
    "collapsed": false
   },
   "outputs": [],
   "source": [
    "def replayTracks(myTracks):\n",
    "    t1.clear()\n",
    "    t1.color(\"blue\")\n",
    "    t1.speed(5)\n",
    "    for t in myTracks:\n",
    "        t1.goto(t)"
   ]
  },
  {
   "cell_type": "code",
   "execution_count": 107,
   "metadata": {
    "collapsed": false
   },
   "outputs": [],
   "source": [
    "replayTracks(myTracks)"
   ]
  },
  {
   "cell_type": "code",
   "execution_count": 96,
   "metadata": {
    "collapsed": true
   },
   "outputs": [],
   "source": [
    "t1.clear()"
   ]
  },
  {
   "cell_type": "code",
   "execution_count": null,
   "metadata": {
    "collapsed": true
   },
   "outputs": [],
   "source": []
  }
 ],
 "metadata": {
  "kernelspec": {
   "display_name": "Python 2",
   "language": "python",
   "name": "python2"
  },
  "language_info": {
   "codemirror_mode": {
    "name": "ipython",
    "version": 2
   },
   "file_extension": ".py",
   "mimetype": "text/x-python",
   "name": "python",
   "nbconvert_exporter": "python",
   "pygments_lexer": "ipython2",
   "version": "2.7.10"
  }
 },
 "nbformat": 4,
 "nbformat_minor": 0
}
