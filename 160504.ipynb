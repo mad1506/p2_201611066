{
 "cells": [
  {
   "cell_type": "code",
   "execution_count": 25,
   "metadata": {
    "collapsed": false
   },
   "outputs": [],
   "source": [
    "#경복궁역\n",
    "kbg=(37.575811, 126.973588)\n",
    "#광화문역\n",
    "khm=(37.571593, 126.976443)\n",
    "#안국역\n",
    "ak=(37.576570, 126.985406)\n",
    "#독립문역\n",
    "drm=(37.574577, 126.957754)\n",
    "#종각역\n",
    "jk=(37.570099, 126.983046)\n",
    "#시청역\n",
    "sch=(37.565649, 126.976820)"
   ]
  },
  {
   "cell_type": "code",
   "execution_count": 4,
   "metadata": {
    "collapsed": true
   },
   "outputs": [],
   "source": [
    "tuple=(kng, khm, ak, drm, jk, sch)"
   ]
  },
  {
   "cell_type": "code",
   "execution_count": 5,
   "metadata": {
    "collapsed": false
   },
   "outputs": [
    {
     "name": "stdout",
     "output_type": "stream",
     "text": [
      "((37.575811, 126.973588), (37.571593, 126.976443), (37.57657, 126.985406), (37.574577, 126.957754), (37.570099, 126.983046), (37.565649, 126.97682))\n"
     ]
    }
   ],
   "source": [
    "print tuple"
   ]
  },
  {
   "cell_type": "code",
   "execution_count": 13,
   "metadata": {
    "collapsed": false
   },
   "outputs": [
    {
     "name": "stdout",
     "output_type": "stream",
     "text": [
      "0.0110490138926\n",
      "0.0\n",
      "0.00509338286407\n",
      "0.0118423479513\n",
      "0.0158820122151\n",
      "0.0110490138926\n",
      "0.010663586076\n"
     ]
    }
   ],
   "source": [
    "import math\n",
    "def calculateDistance(p1,p2):\n",
    "    return math.hypot(p2[0] - p1[0], p2[1] - p1[1])\n",
    "result=calculateDistance(kng,jk)\n",
    "print result\n",
    "\n",
    "for i in tuple:\n",
    "    print calculateDistance(kng,i)\n",
    "    "
   ]
  },
  {
   "cell_type": "code",
   "execution_count": 16,
   "metadata": {
    "collapsed": false
   },
   "outputs": [
    {
     "name": "stdout",
     "output_type": "stream",
     "text": [
      "((1, 2), (3, 4))\n"
     ]
    },
    {
     "data": {
      "text/plain": [
       "tuple"
      ]
     },
     "execution_count": 16,
     "metadata": {},
     "output_type": "execute_result"
    }
   ],
   "source": [
    "Locations=((1,2), (3,4))\n",
    "print Locations"
   ]
  },
  {
   "cell_type": "code",
   "execution_count": 22,
   "metadata": {
    "collapsed": false
   },
   "outputs": [
    {
     "name": "stdout",
     "output_type": "stream",
     "text": [
      "x=37.575811 y=126.973588\n",
      "x=37.571593 y=126.976443\n",
      "x=37.57657 y=126.985406\n",
      "x=37.574577 y=126.957754\n",
      "x=37.570099 y=126.983046\n",
      "x=37.565649 y=126.97682\n"
     ]
    }
   ],
   "source": [
    "for i in tuple:\n",
    "    print \"x={0} y={1}\".format(i[0],i[1])"
   ]
  },
  {
   "cell_type": "code",
   "execution_count": 83,
   "metadata": {
    "collapsed": false
   },
   "outputs": [
    {
     "name": "stdout",
     "output_type": "stream",
     "text": [
      "x1=37.575811 y1=126.973588\n",
      "x2=37.575811 y2=126.973588\n",
      "distance:  0.0\n",
      "x1=37.575811 y1=126.976443\n",
      "x2=37.571593 y2=126.976443\n",
      "distance:  0.00509338286407\n",
      "x1=37.575811 y1=126.985406\n",
      "x2=37.57657 y2=126.985406\n",
      "distance:  0.0118423479513\n",
      "x1=37.575811 y1=126.957754\n",
      "x2=37.574577 y2=126.957754\n",
      "distance:  0.0158820122151\n",
      "x1=37.575811 y1=126.983046\n",
      "x2=37.570099 y2=126.983046\n",
      "distance:  0.0110490138926\n",
      "x1=37.575811 y1=126.97682\n",
      "x2=37.565649 y2=126.97682\n",
      "distance:  0.010663586076\n",
      "minimum distacne is:  0.00509338286407\n"
     ]
    }
   ],
   "source": [
    "def calDistance(p1,p2):\n",
    "    global dist\n",
    "    dist=list()\n",
    "    for p2 in tuple:\n",
    "        print \"x1={0} y1={1}\".format(p1[0],p2[1])\n",
    "        print \"x2={0} y2={1}\".format(p2[0],p2[1])\n",
    "        distance=math.sqrt((p1[0] - p2[0])**2 + (p1[1] - p2[1])**2)\n",
    "        print \"distance: \", distance\n",
    "        dist.append(distance)\n",
    "    dist.remove(0)\n",
    "    print \"minimum distacne is: \", min(dist)\n",
    "\n",
    "\n",
    "calDistance(kbg,tuple)"
   ]
  },
  {
   "cell_type": "code",
   "execution_count": 66,
   "metadata": {
    "collapsed": false
   },
   "outputs": [
    {
     "name": "stdout",
     "output_type": "stream",
     "text": [
      "[10]\n"
     ]
    }
   ],
   "source": [
    "for i in range(0,10):\n",
    "    res=i+1\n",
    "    x=list()\n",
    "    x.append(res)\n",
    "print x"
   ]
  },
  {
   "cell_type": "code",
   "execution_count": 84,
   "metadata": {
    "collapsed": false
   },
   "outputs": [
    {
     "name": "stdout",
     "output_type": "stream",
     "text": [
      "[[[1, 2], [3, 4]], [5, 6]]\n"
     ]
    }
   ],
   "source": [
    "my2dlist=[[[1,2],[3,4]],[5,6]]\n",
    "print my2dlist"
   ]
  },
  {
   "cell_type": "code",
   "execution_count": 86,
   "metadata": {
    "collapsed": false
   },
   "outputs": [
    {
     "name": "stdout",
     "output_type": "stream",
     "text": [
      "[[1, 2], [3, 4], [5, 6]]\n"
     ]
    }
   ],
   "source": [
    "my2dlist=[\n",
    "    [1,2],\n",
    "    [3,4],\n",
    "    [5,6],\n",
    "]\n",
    "print my2dlist"
   ]
  },
  {
   "cell_type": "code",
   "execution_count": 98,
   "metadata": {
    "collapsed": false
   },
   "outputs": [
    {
     "name": "stdout",
     "output_type": "stream",
     "text": [
      "1\n",
      "3\n",
      "5\n"
     ]
    }
   ],
   "source": [
    "print my2dlist[0][0]\n",
    "print my2dlist[1][0]\n",
    "print my2dlist[2][0]"
   ]
  },
  {
   "cell_type": "code",
   "execution_count": 100,
   "metadata": {
    "collapsed": false
   },
   "outputs": [
    {
     "name": "stdout",
     "output_type": "stream",
     "text": [
      "1\n",
      "3\n",
      "5\n"
     ]
    }
   ],
   "source": [
    "for i in my2dlist:\n",
    "    print i[0]"
   ]
  },
  {
   "cell_type": "code",
   "execution_count": 101,
   "metadata": {
    "collapsed": false
   },
   "outputs": [
    {
     "name": "stdout",
     "output_type": "stream",
     "text": [
      "1\n",
      "3\n",
      "5\n"
     ]
    }
   ],
   "source": [
    "for i in range(0,len(my2dlist)):\n",
    "    print my2dlist[i][0]"
   ]
  },
  {
   "cell_type": "code",
   "execution_count": 104,
   "metadata": {
    "collapsed": false
   },
   "outputs": [],
   "source": [
    "my2dlist=[\n",
    "    [74425, 76326],\n",
    "    [61164, 61636],\n",
    "    [109688, 115744],\n",
    "    [144796, 146776],\n",
    "    [174996, 181676],\n",
    "    [177841, 177434],\n",
    "    [204630, 205980],\n",
    "    [223373, 232245],\n",
    "    [161055, 166130],\n",
    "    [171576, 176735],\n",
    "    [279169, 293772],\n",
    "    [239450, 251066],\n",
    "    [148690, 156510],\n",
    "    [182977, 196992],\n",
    "    [237792, 242641],\n",
    "    [283869, 296762],\n",
    "    [209344, 210282],\n",
    "    [118965, 114441],\n",
    "    [186503, 186856],\n",
    "    [195734, 203014],\n",
    "    [254381, 249472],\n",
    "    [212401, 229111],\n",
    "    [271654, 295354],\n",
    "    [319197, 335045],\n",
    "    [229829, 231671]\n",
    "]"
   ]
  },
  {
   "cell_type": "code",
   "execution_count": 106,
   "metadata": {
    "collapsed": false
   },
   "outputs": [
    {
     "name": "stdout",
     "output_type": "stream",
     "text": [
      "4873499\n"
     ]
    }
   ],
   "source": [
    "mansum=0\n",
    "for i in my2dlist:\n",
    "    mansum=mansum+i[0]\n",
    "print mansum"
   ]
  },
  {
   "cell_type": "code",
   "execution_count": 108,
   "metadata": {
    "collapsed": false
   },
   "outputs": [
    {
     "name": "stdout",
     "output_type": "stream",
     "text": [
      "5033671\n"
     ]
    }
   ],
   "source": [
    "womansum=0\n",
    "for i in my2dlist:\n",
    "    womansum=womansum+i[1]\n",
    "print womansum"
   ]
  },
  {
   "cell_type": "code",
   "execution_count": 110,
   "metadata": {
    "collapsed": false
   },
   "outputs": [
    {
     "name": "stdout",
     "output_type": "stream",
     "text": [
      "194939\n"
     ]
    }
   ],
   "source": [
    "manaver=mansum/len(my2dlist)\n",
    "print manaver"
   ]
  },
  {
   "cell_type": "code",
   "execution_count": 111,
   "metadata": {
    "collapsed": false
   },
   "outputs": [
    {
     "name": "stdout",
     "output_type": "stream",
     "text": [
      "201346\n"
     ]
    }
   ],
   "source": [
    "womanaver=womansum/len(my2dlist)\n",
    "print womanaver"
   ]
  },
  {
   "cell_type": "code",
   "execution_count": 139,
   "metadata": {
    "collapsed": false
   },
   "outputs": [],
   "source": [
    "def mansum(my2dlist):\n",
    "    mansum=0\n",
    "    for i in my2dlist:\n",
    "        mansum=mansum+i[0]\n",
    "    return mansum\n",
    "\n",
    "def womansum(my2dlist):\n",
    "    womansum=0\n",
    "    for i in my2dlist:\n",
    "        womansum=womansum+i[1]\n",
    "    return womansum\n",
    "\n",
    "def manaver(my2dlist):\n",
    "    manaver=mansum(my2dlist)/len(my2dlist)\n",
    "    return manaver\n",
    "\n",
    "def womanaver(my2dlist):\n",
    "    womanaver=womansum(my2dlist)/len(my2dlist)\n",
    "    return womanaver\n",
    "\n",
    "def goosum(my2dlist):\n",
    "    goosum=0\n",
    "    goosumm=list()\n",
    "    for i in my2dlist:\n",
    "        goosum=i[0]+i[1]\n",
    "        goosumm.append(goosum)\n",
    "    return goosumm\n",
    "\n",
    "def drawBar(mylist):\n",
    "    import matplotlib\n",
    "    import matplotlib.pyplot as plt\n",
    "\n",
    "    plt.bar(range(len(mylist)),mylist.values(), align='center')\n",
    "    plt.xticks(range(len(mylist)), list(mylist.keys()))\n",
    "    plt.show()\n",
    "\n",
    "def lab9():\n",
    "    my2dlist=[\n",
    "    [74425, 76326],\n",
    "    [61164, 61636],\n",
    "    [109688, 115744],\n",
    "    [144796, 146776],\n",
    "    [174996, 181676],\n",
    "    [177841, 177434],\n",
    "    [204630, 205980],\n",
    "    [223373, 232245],\n",
    "    [161055, 166130],\n",
    "    [171576, 176735],\n",
    "    [279169, 293772],\n",
    "    [239450, 251066],\n",
    "    [148690, 156510],\n",
    "    [182977, 196992],\n",
    "    [237792, 242641],\n",
    "    [283869, 296762],\n",
    "    [209344, 210282],\n",
    "    [118965, 114441],\n",
    "    [186503, 186856],\n",
    "    [195734, 203014],\n",
    "    [254381, 249472],\n",
    "    [212401, 229111],\n",
    "    [271654, 295354],\n",
    "    [319197, 335045],\n",
    "    [229829, 231671]\n",
    "]\n",
    "    print \"mansum: \", mansum(my2dlist)\n",
    "    print \"womansum: \", womansum(my2dlist)\n",
    "    print \"manaver: \", manaver(my2dlist)\n",
    "    print \"womanaver: \", womanaver(my2dlist)\n",
    "    goosumm=goosum(my2dlist)\n",
    "    print \"goosum: \", goosumm\n",
    "    drawBar(goosumm)"
   ]
  },
  {
   "cell_type": "code",
   "execution_count": 140,
   "metadata": {
    "collapsed": false
   },
   "outputs": [
    {
     "name": "stdout",
     "output_type": "stream",
     "text": [
      "mansum:  4873499\n",
      "womansum:  5033671\n",
      "manaver:  194939\n",
      "womanaver:  201346\n",
      "goosum:  [150751, 122800, 225432, 291572, 356672, 355275, 410610, 455618, 327185, 348311, 572941, 490516, 305200, 379969, 480433, 580631, 419626, 233406, 373359, 398748, 503853, 441512, 567008, 654242, 461500]\n"
     ]
    },
    {
     "ename": "AttributeError",
     "evalue": "'list' object has no attribute 'values'",
     "output_type": "error",
     "traceback": [
      "\u001b[1;31m---------------------------------------------------------------------------\u001b[0m",
      "\u001b[1;31mAttributeError\u001b[0m                            Traceback (most recent call last)",
      "\u001b[1;32m<ipython-input-140-e1783c63785f>\u001b[0m in \u001b[0;36m<module>\u001b[1;34m()\u001b[0m\n\u001b[1;32m----> 1\u001b[1;33m \u001b[0mlab9\u001b[0m\u001b[1;33m(\u001b[0m\u001b[1;33m)\u001b[0m\u001b[1;33m\u001b[0m\u001b[0m\n\u001b[0m",
      "\u001b[1;32m<ipython-input-139-367598ea96c8>\u001b[0m in \u001b[0;36mlab9\u001b[1;34m()\u001b[0m\n\u001b[0;32m     69\u001b[0m     \u001b[0mgoosumm\u001b[0m\u001b[1;33m=\u001b[0m\u001b[0mgoosum\u001b[0m\u001b[1;33m(\u001b[0m\u001b[0mmy2dlist\u001b[0m\u001b[1;33m)\u001b[0m\u001b[1;33m\u001b[0m\u001b[0m\n\u001b[0;32m     70\u001b[0m     \u001b[1;32mprint\u001b[0m \u001b[1;34m\"goosum: \"\u001b[0m\u001b[1;33m,\u001b[0m \u001b[0mgoosumm\u001b[0m\u001b[1;33m\u001b[0m\u001b[0m\n\u001b[1;32m---> 71\u001b[1;33m     \u001b[0mdrawBar\u001b[0m\u001b[1;33m(\u001b[0m\u001b[0mgoosumm\u001b[0m\u001b[1;33m)\u001b[0m\u001b[1;33m\u001b[0m\u001b[0m\n\u001b[0m",
      "\u001b[1;32m<ipython-input-139-367598ea96c8>\u001b[0m in \u001b[0;36mdrawBar\u001b[1;34m(mylist)\u001b[0m\n\u001b[0;32m     31\u001b[0m     \u001b[1;32mimport\u001b[0m \u001b[0mmatplotlib\u001b[0m\u001b[1;33m.\u001b[0m\u001b[0mpyplot\u001b[0m \u001b[1;32mas\u001b[0m \u001b[0mplt\u001b[0m\u001b[1;33m\u001b[0m\u001b[0m\n\u001b[0;32m     32\u001b[0m \u001b[1;33m\u001b[0m\u001b[0m\n\u001b[1;32m---> 33\u001b[1;33m     \u001b[0mplt\u001b[0m\u001b[1;33m.\u001b[0m\u001b[0mbar\u001b[0m\u001b[1;33m(\u001b[0m\u001b[0mrange\u001b[0m\u001b[1;33m(\u001b[0m\u001b[0mlen\u001b[0m\u001b[1;33m(\u001b[0m\u001b[0mmylist\u001b[0m\u001b[1;33m)\u001b[0m\u001b[1;33m)\u001b[0m\u001b[1;33m,\u001b[0m\u001b[0mmylist\u001b[0m\u001b[1;33m.\u001b[0m\u001b[0mvalues\u001b[0m\u001b[1;33m(\u001b[0m\u001b[1;33m)\u001b[0m\u001b[1;33m,\u001b[0m \u001b[0malign\u001b[0m\u001b[1;33m=\u001b[0m\u001b[1;34m'center'\u001b[0m\u001b[1;33m)\u001b[0m\u001b[1;33m\u001b[0m\u001b[0m\n\u001b[0m\u001b[0;32m     34\u001b[0m     \u001b[0mplt\u001b[0m\u001b[1;33m.\u001b[0m\u001b[0mxticks\u001b[0m\u001b[1;33m(\u001b[0m\u001b[0mrange\u001b[0m\u001b[1;33m(\u001b[0m\u001b[0mlen\u001b[0m\u001b[1;33m(\u001b[0m\u001b[0mmylist\u001b[0m\u001b[1;33m)\u001b[0m\u001b[1;33m)\u001b[0m\u001b[1;33m,\u001b[0m \u001b[0mlist\u001b[0m\u001b[1;33m(\u001b[0m\u001b[0mmylist\u001b[0m\u001b[1;33m.\u001b[0m\u001b[0mkeys\u001b[0m\u001b[1;33m(\u001b[0m\u001b[1;33m)\u001b[0m\u001b[1;33m)\u001b[0m\u001b[1;33m)\u001b[0m\u001b[1;33m\u001b[0m\u001b[0m\n\u001b[0;32m     35\u001b[0m     \u001b[0mplt\u001b[0m\u001b[1;33m.\u001b[0m\u001b[0mshow\u001b[0m\u001b[1;33m(\u001b[0m\u001b[1;33m)\u001b[0m\u001b[1;33m\u001b[0m\u001b[0m\n",
      "\u001b[1;31mAttributeError\u001b[0m: 'list' object has no attribute 'values'"
     ]
    }
   ],
   "source": [
    "lab9()"
   ]
  }
 ],
 "metadata": {
  "kernelspec": {
   "display_name": "Python 2",
   "language": "python",
   "name": "python2"
  },
  "language_info": {
   "codemirror_mode": {
    "name": "ipython",
    "version": 2
   },
   "file_extension": ".py",
   "mimetype": "text/x-python",
   "name": "python",
   "nbconvert_exporter": "python",
   "pygments_lexer": "ipython2",
   "version": "2.7.10"
  }
 },
 "nbformat": 4,
 "nbformat_minor": 0
}
