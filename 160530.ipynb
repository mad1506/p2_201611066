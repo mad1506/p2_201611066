{
 "cells": [
  {
   "cell_type": "code",
   "execution_count": 1,
   "metadata": {
    "collapsed": false
   },
   "outputs": [
    {
     "name": "stdout",
     "output_type": "stream",
     "text": [
      " C 드라이브의 볼륨에는 이름이 없습니다.\n",
      " 볼륨 일련 번호: 7C3A-0B6D\n",
      "\n",
      " C:\\Users\\P400 디렉터리\n",
      "\n",
      "2016-05-30  오후 02:12    <DIR>          .\n",
      "2016-05-30  오후 02:12    <DIR>          ..\n",
      "2016-04-27  오후 05:43            13,461 .bash_history\n",
      "2015-09-09  오후 12:09    <DIR>          .continuum\n",
      "2016-04-27  오후 05:43             1,183 .drjava\n",
      "2016-04-20  오후 01:25               139 .gitconfig\n",
      "2016-05-30  오후 02:12    <DIR>          .ipynb_checkpoints\n",
      "2015-09-09  오후 01:45    <DIR>          .ipython\n",
      "2015-09-15  오후 12:48    <DIR>          .jupyter\n",
      "2016-05-09  오후 03:35    <DIR>          .matplotlib\n",
      "2014-02-12  오후 12:45    <DIR>          .nbi\n",
      "2015-11-09  오후 05:16    <DIR>          .spss\n",
      "2016-04-18  오후 12:23    <DIR>          .ssh\n",
      "2015-09-14  오후 07:23    <DIR>          .VirtualBox\n",
      "2016-05-02  오후 03:50            19,717 160502.ipynb\n",
      "2016-05-04  오후 01:52            15,078 160504.ipynb\n",
      "2016-05-09  오후 03:50            10,899 160509.ipynb\n",
      "2016-05-16  오후 03:34            15,268 160516.ipynb\n",
      "2016-05-23  오후 03:49            22,099 160523.ipynb\n",
      "2016-05-30  오후 01:56                72 160530.ipynb\n",
      "2016-04-05  오후 03:27    <DIR>          Aptana Rubles\n",
      "2016-03-07  오후 02:43    <DIR>          Contacts\n",
      "2016-05-26  오전 11:13    <DIR>          Desktop\n",
      "2016-05-23  오후 01:50    <DIR>          Documents\n",
      "2016-05-25  오후 02:05    <DIR>          Downloads\n",
      "2016-03-07  오후 02:43    <DIR>          Favorites\n",
      "2016-05-23  오후 02:18               406 jsl.txt\n",
      "2016-03-07  오후 02:43    <DIR>          Links\n",
      "2016-03-07  오후 02:43    <DIR>          Music\n",
      "2016-05-16  오후 02:13           245,314 myMaze.gif\n",
      "2016-05-23  오후 03:49                31 output.txt\n",
      "2016-05-25  오후 03:40                 0 outputNumber.txt\n",
      "2016-05-25  오후 02:37                 0 outputUpper.txt\n",
      "2016-03-07  오후 02:43    <DIR>          Pictures\n",
      "2016-03-07  오후 02:43    <DIR>          Saved Games\n",
      "2016-03-07  오후 02:43    <DIR>          Searches\n",
      "2016-04-27  오후 02:39             1,946 Untitled.ipynb\n",
      "2016-04-27  오후 02:27                72 Untitled1.ipynb\n",
      "2016-04-27  오후 03:23             1,237 Untitled10.ipynb\n",
      "2016-04-27  오후 03:25             1,148 Untitled11.ipynb\n",
      "2016-04-27  오후 03:27             1,100 Untitled12.ipynb\n",
      "2016-04-27  오후 03:32             1,163 Untitled13.ipynb\n",
      "2016-05-02  오후 01:44            11,288 Untitled14.ipynb\n",
      "2016-05-02  오후 01:05             7,212 Untitled15.ipynb\n",
      "2016-05-02  오후 02:32             4,561 Untitled16.ipynb\n",
      "2016-05-04  오후 01:10                72 Untitled17.ipynb\n",
      "2016-05-04  오후 01:12                72 Untitled18.ipynb\n",
      "2016-05-04  오후 01:21             6,790 Untitled19.ipynb\n",
      "2016-04-27  오후 02:38             1,525 Untitled2.ipynb\n",
      "2016-05-09  오후 12:18               753 Untitled20.ipynb\n",
      "2016-05-09  오후 01:25            10,544 Untitled21.ipynb\n",
      "2016-05-09  오후 01:52             2,919 Untitled22.ipynb\n",
      "2016-05-11  오후 02:58             1,035 Untitled23.ipynb\n",
      "2016-05-16  오후 01:15             1,166 Untitled24.ipynb\n",
      "2016-05-16  오후 12:21                72 Untitled25.ipynb\n",
      "2016-05-16  오후 01:22             1,075 Untitled26.ipynb\n",
      "2016-05-16  오후 01:26                72 Untitled27.ipynb\n",
      "2016-05-16  오후 01:37             2,059 Untitled28.ipynb\n",
      "2016-05-25  오후 12:08                72 Untitled29.ipynb\n",
      "2016-04-27  오후 03:08             1,258 Untitled3.ipynb\n",
      "2016-05-25  오후 03:45             6,264 Untitled30.ipynb\n",
      "2016-05-30  오후 12:58                72 Untitled31.ipynb\n",
      "2016-04-27  오후 02:49             2,772 Untitled4.ipynb\n",
      "2016-04-27  오후 03:05             1,491 Untitled5.ipynb\n",
      "2016-04-27  오후 03:07             3,789 Untitled6.ipynb\n",
      "2016-04-27  오후 03:13               790 Untitled7.ipynb\n",
      "2016-04-27  오후 03:39             2,345 Untitled8.ipynb\n",
      "2016-04-27  오후 03:21             3,748 Untitled9.ipynb\n",
      "2016-05-30  오후 12:56    <DIR>          Videos\n",
      "2015-09-14  오후 07:18    <DIR>          VirtualBox VMs\n",
      "2016-05-09  오후 02:47             1,659 w10Main.ipynb\n",
      "2016-05-16  오후 03:03             2,353 w11Main.ipynb\n",
      "2016-05-23  오후 03:28             2,592 w12Main.ipynb\n",
      "2016-05-02  오후 03:15             1,643 w8Main.ipynb\n",
      "2016-03-10  오전 11:28    <DIR>          workspace\n",
      "              50개 파일             432,396 바이트\n",
      "              25개 디렉터리  215,473,881,088 바이트 남음\n"
     ]
    }
   ],
   "source": [
    "ls"
   ]
  },
  {
   "cell_type": "code",
   "execution_count": 4,
   "metadata": {
    "collapsed": false
   },
   "outputs": [
    {
     "name": "stdout",
     "output_type": "stream",
     "text": [
      "Overwriting python.txt\n"
     ]
    }
   ],
   "source": [
    "%%writefile python.txt\n",
    "Python is a widely used general-purpose, high-level programming language.[19][20]\n",
    "Its design philosophy emphasizes code readability, and\n",
    "its syntax allows programmers to express concepts in fewer lines of code than\n",
    "would be possible in languages such as C++ or Java.[21][22]"
   ]
  },
  {
   "cell_type": "code",
   "execution_count": 5,
   "metadata": {
    "collapsed": true
   },
   "outputs": [],
   "source": [
    "import os"
   ]
  },
  {
   "cell_type": "code",
   "execution_count": 9,
   "metadata": {
    "collapsed": false
   },
   "outputs": [
    {
     "name": "stdout",
     "output_type": "stream",
     "text": [
      "Python is a widely used general-purpose, high-level programming language.[19][20]\n",
      "Its design philosophy emphasizes code readability, and\n",
      "its syntax allows programmers to express concepts in fewer lines of code than\n",
      "would be possible in languages such as C++ or Java.[21][22]\n"
     ]
    }
   ],
   "source": [
    "myfile=open('python.txt')\n",
    "line=myfile.read()\n",
    "myfile.close()\n",
    "print line"
   ]
  },
  {
   "cell_type": "code",
   "execution_count": 12,
   "metadata": {
    "collapsed": false
   },
   "outputs": [
    {
     "name": "stdout",
     "output_type": "stream",
     "text": [
      "Python is a widely used general-purpose, high-level programming language.[19][20]\n",
      "Its design philosophy emphasizes code readability, and\n",
      "its syntax allows programmers to express concepts in fewer lines of code than\n",
      "would be possible in languages such as C++ or Java.[21][22]\n"
     ]
    }
   ],
   "source": [
    "mydir=os.getcwd()\n",
    "filename='python.txt'\n",
    "myfilename=os.path.join(mydir,filename)\n",
    "myfile=open(myfilename)\n",
    "line=myfile.read()\n",
    "myfile.close()\n",
    "print line"
   ]
  },
  {
   "cell_type": "code",
   "execution_count": 17,
   "metadata": {
    "collapsed": false
   },
   "outputs": [
    {
     "data": {
      "text/plain": [
       "'C:\\\\Users\\\\P400'"
      ]
     },
     "execution_count": 17,
     "metadata": {},
     "output_type": "execute_result"
    }
   ],
   "source": [
    "mydir=os.getcwd()\n",
    "mydir.replace('\\\\', '\\\\')"
   ]
  },
  {
   "cell_type": "markdown",
   "metadata": {},
   "source": [
    "* replace 앞에 것은 escape character을 인식하고 뒤에 것은 인식을 안한다."
   ]
  },
  {
   "cell_type": "code",
   "execution_count": 18,
   "metadata": {
    "collapsed": false
   },
   "outputs": [
    {
     "name": "stdout",
     "output_type": "stream",
     "text": [
      "python.txt\n"
     ]
    }
   ],
   "source": [
    "filename='python.txt'\n",
    "print filename"
   ]
  },
  {
   "cell_type": "code",
   "execution_count": 20,
   "metadata": {
    "collapsed": false
   },
   "outputs": [
    {
     "name": "stdout",
     "output_type": "stream",
     "text": [
      "C:\\Users\\P400\\python.txt\n"
     ]
    }
   ],
   "source": [
    "print mydir + '\\\\' + filename"
   ]
  },
  {
   "cell_type": "code",
   "execution_count": 25,
   "metadata": {
    "collapsed": false
   },
   "outputs": [
    {
     "name": "stdout",
     "output_type": "stream",
     "text": [
      "C:\\Users\\P400/python.txt\n"
     ]
    }
   ],
   "source": [
    "myfilename=mydir + '/' + filename\n",
    "print myfilename"
   ]
  },
  {
   "cell_type": "code",
   "execution_count": 32,
   "metadata": {
    "collapsed": false
   },
   "outputs": [
    {
     "name": "stdout",
     "output_type": "stream",
     "text": [
      "Python is a widely used general-purpose, high-level programming language.[19][20]\n",
      "\n",
      "Its design philosophy emphasizes code readability, and\n",
      "\n",
      "its syntax allows programmers to express concepts in fewer lines of code than\n",
      "\n",
      "would be possible in languages such as C++ or Java.[21][22]\n"
     ]
    }
   ],
   "source": [
    "myfilehandle = open(myfilename)\n",
    "for line in myfilehandle:\n",
    "    print line\n",
    "myfilehandle.close()"
   ]
  },
  {
   "cell_type": "code",
   "execution_count": 28,
   "metadata": {
    "collapsed": false
   },
   "outputs": [
    {
     "name": "stdout",
     "output_type": "stream",
     "text": [
      "C:\\Users\\P400\\python.txt\n"
     ]
    }
   ],
   "source": [
    "myfilename=os.path.join(mydir, filename)\n",
    "print myfilename"
   ]
  },
  {
   "cell_type": "code",
   "execution_count": 30,
   "metadata": {
    "collapsed": false
   },
   "outputs": [
    {
     "name": "stdout",
     "output_type": "stream",
     "text": [
      "<type 'str'>\n",
      "<type 'file'>\n"
     ]
    }
   ],
   "source": [
    "print type(myfilename)\n",
    "print type(myfilehandle)"
   ]
  },
  {
   "cell_type": "code",
   "execution_count": 40,
   "metadata": {
    "collapsed": false
   },
   "outputs": [
    {
     "name": "stdout",
     "output_type": "stream",
     "text": [
      "Python is a widely used general-purpose, high-level programming language.[19][20]\n",
      "Its design philosophy emphasizes code readability, and\n",
      "its syntax allows programmers to express concepts in fewer lines of code than\n",
      "would be possible in languages such as C++ or Java.[21][22]\n"
     ]
    }
   ],
   "source": [
    "myfilehandle=open(filename)\n",
    "print myfilehandle.read()\n",
    "myfilehandle.close()"
   ]
  },
  {
   "cell_type": "code",
   "execution_count": 39,
   "metadata": {
    "collapsed": false
   },
   "outputs": [
    {
     "name": "stdout",
     "output_type": "stream",
     "text": [
      "Python is a widely used general-purpose, high-level programming language.[19][20]\n",
      "Its design philosophy emphasizes code readability, and\n",
      "its syntax allows programmers to express concepts in fewer lines of code than\n",
      "would be possible in languages such as C++ or Java.[21][22]\n"
     ]
    }
   ],
   "source": [
    "myfilehandle = open('.\\\\python.txt')\n",
    "print myfilehandle.read()\n",
    "myfilehandle.close()"
   ]
  },
  {
   "cell_type": "code",
   "execution_count": 41,
   "metadata": {
    "collapsed": false
   },
   "outputs": [
    {
     "name": "stdout",
     "output_type": "stream",
     "text": [
      " C 드라이브의 볼륨에는 이름이 없습니다.\n",
      " 볼륨 일련 번호: 7C3A-0B6D\n",
      "\n",
      " C:\\Users\\P400 디렉터리\n",
      "\n",
      "2016-05-30  오후 02:43    <DIR>          .\n",
      "2016-05-30  오후 02:43    <DIR>          ..\n",
      "2016-04-27  오후 05:43            13,461 .bash_history\n",
      "2015-09-09  오후 12:09    <DIR>          .continuum\n",
      "2016-04-27  오후 05:43             1,183 .drjava\n",
      "2016-04-20  오후 01:25               139 .gitconfig\n",
      "2016-05-30  오후 02:12    <DIR>          .ipynb_checkpoints\n",
      "2015-09-09  오후 01:45    <DIR>          .ipython\n",
      "2015-09-15  오후 12:48    <DIR>          .jupyter\n",
      "2016-05-09  오후 03:35    <DIR>          .matplotlib\n",
      "2014-02-12  오후 12:45    <DIR>          .nbi\n",
      "2015-11-09  오후 05:16    <DIR>          .spss\n",
      "2016-04-18  오후 12:23    <DIR>          .ssh\n",
      "2015-09-14  오후 07:23    <DIR>          .VirtualBox\n",
      "2016-05-02  오후 03:50            19,717 160502.ipynb\n",
      "2016-05-04  오후 01:52            15,078 160504.ipynb\n",
      "2016-05-09  오후 03:50            10,899 160509.ipynb\n",
      "2016-05-16  오후 03:34            15,268 160516.ipynb\n",
      "2016-05-23  오후 03:49            22,099 160523.ipynb\n",
      "2016-05-30  오후 02:43            12,602 160530.ipynb\n",
      "2016-04-05  오후 03:27    <DIR>          Aptana Rubles\n",
      "2016-03-07  오후 02:43    <DIR>          Contacts\n",
      "2016-05-26  오전 11:13    <DIR>          Desktop\n",
      "2016-05-23  오후 01:50    <DIR>          Documents\n",
      "2016-05-25  오후 02:05    <DIR>          Downloads\n",
      "2016-03-07  오후 02:43    <DIR>          Favorites\n",
      "2016-05-23  오후 02:18               406 jsl.txt\n",
      "2016-03-07  오후 02:43    <DIR>          Links\n",
      "2016-03-07  오후 02:43    <DIR>          Music\n",
      "2016-05-16  오후 02:13           245,314 myMaze.gif\n",
      "2016-05-23  오후 03:49                31 output.txt\n",
      "2016-05-25  오후 03:40                 0 outputNumber.txt\n",
      "2016-05-25  오후 02:37                 0 outputUpper.txt\n",
      "2016-03-07  오후 02:43    <DIR>          Pictures\n",
      "2016-05-30  오후 02:14               277 python.txt\n",
      "2016-03-07  오후 02:43    <DIR>          Saved Games\n",
      "2016-03-07  오후 02:43    <DIR>          Searches\n",
      "2016-04-27  오후 02:39             1,946 Untitled.ipynb\n",
      "2016-04-27  오후 02:27                72 Untitled1.ipynb\n",
      "2016-04-27  오후 03:23             1,237 Untitled10.ipynb\n",
      "2016-04-27  오후 03:25             1,148 Untitled11.ipynb\n",
      "2016-04-27  오후 03:27             1,100 Untitled12.ipynb\n",
      "2016-04-27  오후 03:32             1,163 Untitled13.ipynb\n",
      "2016-05-02  오후 01:44            11,288 Untitled14.ipynb\n",
      "2016-05-02  오후 01:05             7,212 Untitled15.ipynb\n",
      "2016-05-02  오후 02:32             4,561 Untitled16.ipynb\n",
      "2016-05-04  오후 01:10                72 Untitled17.ipynb\n",
      "2016-05-04  오후 01:12                72 Untitled18.ipynb\n",
      "2016-05-04  오후 01:21             6,790 Untitled19.ipynb\n",
      "2016-04-27  오후 02:38             1,525 Untitled2.ipynb\n",
      "2016-05-09  오후 12:18               753 Untitled20.ipynb\n",
      "2016-05-09  오후 01:25            10,544 Untitled21.ipynb\n",
      "2016-05-09  오후 01:52             2,919 Untitled22.ipynb\n",
      "2016-05-11  오후 02:58             1,035 Untitled23.ipynb\n",
      "2016-05-16  오후 01:15             1,166 Untitled24.ipynb\n",
      "2016-05-16  오후 12:21                72 Untitled25.ipynb\n",
      "2016-05-16  오후 01:22             1,075 Untitled26.ipynb\n",
      "2016-05-16  오후 01:26                72 Untitled27.ipynb\n",
      "2016-05-16  오후 01:37             2,059 Untitled28.ipynb\n",
      "2016-05-25  오후 12:08                72 Untitled29.ipynb\n",
      "2016-04-27  오후 03:08             1,258 Untitled3.ipynb\n",
      "2016-05-25  오후 03:45             6,264 Untitled30.ipynb\n",
      "2016-05-30  오후 12:58                72 Untitled31.ipynb\n",
      "2016-04-27  오후 02:49             2,772 Untitled4.ipynb\n",
      "2016-04-27  오후 03:05             1,491 Untitled5.ipynb\n",
      "2016-04-27  오후 03:07             3,789 Untitled6.ipynb\n",
      "2016-04-27  오후 03:13               790 Untitled7.ipynb\n",
      "2016-04-27  오후 03:39             2,345 Untitled8.ipynb\n",
      "2016-04-27  오후 03:21             3,748 Untitled9.ipynb\n",
      "2016-05-30  오후 12:56    <DIR>          Videos\n",
      "2015-09-14  오후 07:18    <DIR>          VirtualBox VMs\n",
      "2016-05-09  오후 02:47             1,659 w10Main.ipynb\n",
      "2016-05-16  오후 03:03             2,353 w11Main.ipynb\n",
      "2016-05-23  오후 03:28             2,592 w12Main.ipynb\n",
      "2016-05-02  오후 03:15             1,643 w8Main.ipynb\n",
      "2016-03-10  오전 11:28    <DIR>          workspace\n",
      "              51개 파일             445,203 바이트\n",
      "              25개 디렉터리  215,466,164,224 바이트 남음\n"
     ]
    }
   ],
   "source": [
    "ls"
   ]
  },
  {
   "cell_type": "code",
   "execution_count": 44,
   "metadata": {
    "collapsed": true
   },
   "outputs": [],
   "source": [
    "data=[1,2,3,4,5,6,7,8,9,10]\n",
    "\n",
    "fout=open('outputNumber.txt','w')\n",
    "for i,item in enumerate(data):\n",
    "    str=\"{0}\\t\".format(item)\n",
    "    fout.write(str)\n",
    "    if(i%2==1):\n",
    "        fout.write('\\n')\n",
    "fout.close()"
   ]
  },
  {
   "cell_type": "code",
   "execution_count": null,
   "metadata": {
    "collapsed": true
   },
   "outputs": [],
   "source": [
    "# %load outputNumber.txt\n",
    "1\t2\t\n",
    "3\t4\t\n",
    "5\t6\t\n",
    "7\t8\t\n",
    "9\t10\t\n"
   ]
  },
  {
   "cell_type": "code",
   "execution_count": 46,
   "metadata": {
    "collapsed": true
   },
   "outputs": [],
   "source": [
    "fin1=open('python.txt', 'a')\n",
    "fin2=open('outputNumber.txt', 'r')\n",
    "for line in fin2:\n",
    "    fin1.write(line)\n",
    "fin1.close()\n",
    "fin2.close()"
   ]
  },
  {
   "cell_type": "code",
   "execution_count": null,
   "metadata": {
    "collapsed": true
   },
   "outputs": [],
   "source": [
    "# %load python.txt\n",
    "Python is a widely used general-purpose, high-level programming language.[19][20]\n",
    "Its design philosophy emphasizes code readability, and\n",
    "its syntax allows programmers to express concepts in fewer lines of code than\n",
    "would be possible in languages such as C++ or Java.[21][22]1\t2\t\n",
    "3\t4\t\n",
    "5\t6\t\n",
    "7\t8\t\n",
    "9\t10\t\n"
   ]
  },
  {
   "cell_type": "markdown",
   "metadata": {},
   "source": [
    "* 오류처리"
   ]
  },
  {
   "cell_type": "code",
   "execution_count": 52,
   "metadata": {
    "collapsed": false
   },
   "outputs": [],
   "source": [
    "try:\n",
    "    fin1=open('python.txt', 'a')\n",
    "    fin2=open('outputNumber.txt', 'r')\n",
    "    for line in fin2:\n",
    "        fin1.write(line)\n",
    "    fin1.close()\n",
    "    fin2.close()\n",
    "    \n",
    "except Exception as e:\n",
    "        print e"
   ]
  },
  {
   "cell_type": "markdown",
   "metadata": {},
   "source": [
    "# 파일-5 파일의 데이터를 읽어서 도형을 그리기\n",
    "\n",
    "* 파일에서 사각형 좌표를 읽어오기\n",
    "    * 입력 => 파일명\n",
    "    * 출력 => 사각형 좌표\n",
    "* 사각형 좌표를 이용해 사각형 그리기\n",
    "    * 입력 => 사각형 좌표\n",
    "    * 출력 => ㅁ\n",
    "    \n",
    "** => 함수 두 개로 만들기"
   ]
  },
  {
   "cell_type": "code",
   "execution_count": 54,
   "metadata": {
    "collapsed": false
   },
   "outputs": [
    {
     "name": "stdout",
     "output_type": "stream",
     "text": [
      "Writing reccoords.txt\n"
     ]
    }
   ],
   "source": [
    "%%writefile reccoords.txt\n",
    "0,0,100,100\n",
    "200,200,150,150"
   ]
  },
  {
   "cell_type": "code",
   "execution_count": null,
   "metadata": {
    "collapsed": true
   },
   "outputs": [],
   "source": [
    "# %load reccoords.txt\n",
    "0,0,100,100\n",
    "200,200,150,150"
   ]
  },
  {
   "cell_type": "code",
   "execution_count": 67,
   "metadata": {
    "collapsed": false
   },
   "outputs": [
    {
     "name": "stdout",
     "output_type": "stream",
     "text": [
      "[('0', '0'), ('100', '100')]\n",
      "[('200', '200'), ('150', '150')]\n"
     ]
    }
   ],
   "source": [
    "recfile=open('reccoords.txt', 'r')\n",
    "for line in recfile:    \n",
    "    line1=line.split(',')\n",
    "    print [(line1[0],line1[1]),(line1[2],line1[3])]\n",
    "recfile.close()"
   ]
  },
  {
   "cell_type": "code",
   "execution_count": 74,
   "metadata": {
    "collapsed": false
   },
   "outputs": [
    {
     "name": "stdout",
     "output_type": "stream",
     "text": [
      "200,200,150,150\n",
      "('200', '200')\n",
      "('200', '200') ('150', '150')\n",
      "[('200', '200'), ('150', '150')]\n"
     ]
    },
    {
     "data": {
      "text/plain": [
       "str"
      ]
     },
     "execution_count": 74,
     "metadata": {},
     "output_type": "execute_result"
    }
   ],
   "source": [
    "print line\n",
    "line1=line.split(',')\n",
    "print (line1[0],line1[1])\n",
    "print (line1[0],line1[1]),(line1[2],line1[3])\n",
    "print [(line1[0],line1[1]),(line1[2],line1[3])]\n",
    "type(line1[0])"
   ]
  },
  {
   "cell_type": "code",
   "execution_count": 64,
   "metadata": {
    "collapsed": true
   },
   "outputs": [],
   "source": [
    "def startCoord(coord):\n",
    "    if distance(coord[0],(0,0))<=distance(coord[1],(0,0)):\n",
    "        return coord[0]\n",
    "    else:\n",
    "        return coord[1]\n",
    "    \n",
    "def endCoord(coord):\n",
    "    if distance(coord[0],(0,0))>=distance(coord[1],(0,0)):\n",
    "        return coord[0]\n",
    "    else:\n",
    "        return coord[1]"
   ]
  },
  {
   "cell_type": "code",
   "execution_count": 91,
   "metadata": {
    "collapsed": true
   },
   "outputs": [],
   "source": [
    "def getCoordFromFile(afile):\n",
    "    recfile=open(afile, 'r')\n",
    "    coords=list()\n",
    "    for line in recfile:    \n",
    "        line1=line.split(',')\n",
    "\n",
    "        coords.append([(line1[0],line1[1]),(line1[2],line1[3].strip())])\n",
    "\n",
    "    recfile.close()\n",
    "    return coords"
   ]
  },
  {
   "cell_type": "code",
   "execution_count": 92,
   "metadata": {
    "collapsed": false
   },
   "outputs": [
    {
     "name": "stdout",
     "output_type": "stream",
     "text": [
      "[[('0', '0'), ('100', '100')], [('200', '200'), ('150', '150')]]\n"
     ]
    }
   ],
   "source": [
    "print getCoordFromFile('reccoords.txt')"
   ]
  },
  {
   "cell_type": "code",
   "execution_count": null,
   "metadata": {
    "collapsed": true
   },
   "outputs": [],
   "source": [
    "def getX2Data(afile):\n",
    "    recfile=open(afile, 'r')\n",
    "    for line in recfile:    \n",
    "        line1=line.split(',')\n",
    "    coords=[line1[1],(line1[2],line1[3])]\n",
    "    recfile.close()\n",
    "    return coords"
   ]
  },
  {
   "cell_type": "code",
   "execution_count": null,
   "metadata": {
    "collapsed": true
   },
   "outputs": [],
   "source": [
    "def drawSquareWithCoords(coords):\n",
    "    for coord in coords:\n",
    "        x1=coord[0][0]\n",
    "        x2=coord[1][0]\n",
    "        y1=coord[0][1]\n",
    "        y2=coord[1][1]\n",
    "    print x1,y1,x2,y2\n",
    "\n",
    "drawSquareWithCoords()"
   ]
  }
 ],
 "metadata": {
  "kernelspec": {
   "display_name": "Python 2",
   "language": "python",
   "name": "python2"
  },
  "language_info": {
   "codemirror_mode": {
    "name": "ipython",
    "version": 2
   },
   "file_extension": ".py",
   "mimetype": "text/x-python",
   "name": "python",
   "nbconvert_exporter": "python",
   "pygments_lexer": "ipython2",
   "version": "2.7.10"
  }
 },
 "nbformat": 4,
 "nbformat_minor": 0
}
