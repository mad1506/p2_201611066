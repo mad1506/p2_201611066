{
 "cells": [
  {
   "cell_type": "code",
   "execution_count": 1,
   "metadata": {
    "collapsed": true
   },
   "outputs": [],
   "source": [
    "import turtle\n",
    "wn=turtle.Screen()\n",
    "wn.bgpic(\"myMaze.gif\")\n",
    "t1=turtle.Turtle()\n",
    "t1.speed(1)\n",
    "t1.penup()\n",
    "t1.goto(-400,300)\n",
    "t1.pendown()\n",
    "t1.pencolor(\"Red\")"
   ]
  },
  {
   "cell_type": "code",
   "execution_count": 12,
   "metadata": {
    "collapsed": true
   },
   "outputs": [],
   "source": [
    "def keyup():\n",
    "    pt=t1.pos()\n",
    "    print \"up\",pt\n",
    "    t1.write(pt)\n",
    "    t1.forward(45)\n",
    "    print isInRectangle(pt, coord)\n",
    "\n",
    "def keyleft():\n",
    "    t1.left(45)\n",
    "\n",
    "def keyright():\n",
    "    t1.right(45)\n",
    "\n",
    "def keydown():\n",
    "    pt=t1.pos()\n",
    "    print \"down\",pt\n",
    "    t1.write(pt)\n",
    "    t1.back(45)\n",
    "    print isInRectangle(pt, coord)\n",
    "\n",
    "def addKeys():\n",
    "    wn.onkey(keyup, \"Up\")\n",
    "    wn.onkey(keyleft, \"Left\")\n",
    "    wn.onkey(keyright, \"Right\")\n",
    "    wn.onkey(keydown, \"Down\")\n",
    "    wn.onkey(wn.bye, \"q\") # Register function exit to event key_press \"q\"\n",
    "\n",
    "def gamePlay():\n",
    "    import turtle\n",
    "    global wn\n",
    "    global t1\n",
    "    global coord\n",
    "    coord=[(350,-300),(450,-200)]\n",
    "    wn=turtle.Screen()\n",
    "    wn.bgpic(\"myMaze.gif\")\n",
    "    t1=turtle.Turtle()\n",
    "    t1.speed(1)\n",
    "    t1.penup()\n",
    "    t1.goto(-400,300)\n",
    "    t1.pendown()\n",
    "    t1.pencolor(\"Red\")\n",
    "    addKeys()\n",
    "    wn.listen()\n",
    "    turtle.mainloop()\n",
    "    \n",
    "def isInRectangle(curpos, coord):\n",
    "    xs=coord[0][0]\n",
    "    xe=coord[1][0]\n",
    "    ys=coord[0][1]\n",
    "    ye=coord[1][1]\n",
    "    return abs(xs)<=abs(curpos[0])<=abs(xe) or abs(xe)<=abs(curpos[0])<=abs(xs) and abs(ys)<=abs(curpos[1])<=abs(ye) or abs(ye)<=abs(curpos[1])<=abs(ys)\n",
    "\n",
    "def lab10():\n",
    "    gamePlay()"
   ]
  },
  {
   "cell_type": "code",
   "execution_count": null,
   "metadata": {
    "collapsed": true
   },
   "outputs": [],
   "source": []
  },
  {
   "cell_type": "code",
   "execution_count": null,
   "metadata": {
    "collapsed": false
   },
   "outputs": [
    {
     "name": "stdout",
     "output_type": "stream",
     "text": [
      "up (-400.00,300.00)\n",
      "True\n",
      "up (-355.00,300.00)\n",
      "True\n",
      "up (-310.00,300.00)\n",
      "True\n",
      "up (-310.00,255.00)\n",
      "True\n",
      "up (-310.00,210.00)\n",
      "True\n",
      "up (-310.00,165.00)\n",
      "False\n",
      "up (-310.00,120.00)\n",
      "False\n",
      "up (-310.00,75.00)\n",
      "False\n",
      "up (-310.00,30.00)\n",
      "False\n",
      "up (-310.00,-15.00)\n",
      "False\n",
      "up (-310.00,-60.00)\n",
      "False\n",
      "up (-310.00,-105.00)\n",
      "False\n",
      "up (-310.00,-150.00)\n",
      "False\n",
      "up (-310.00,-195.00)\n",
      "False\n",
      "up (-310.00,-240.00)\n",
      "True\n",
      "up (-265.00,-240.00)\n",
      "True\n",
      "up (-220.00,-240.00)\n",
      "True\n",
      "up (-175.00,-240.00)\n",
      "True\n",
      "up (-130.00,-240.00)\n",
      "True\n",
      "up (-85.00,-240.00)\n",
      "True\n",
      "up (-53.18,-208.18)\n",
      "True\n",
      "up (-8.18,-208.18)\n",
      "True\n",
      "up (36.82,-208.18)\n",
      "True\n",
      "up (81.82,-208.18)\n",
      "True\n",
      "up (113.64,-176.36)\n",
      "False\n",
      "up (145.46,-144.54)\n",
      "False\n",
      "up (177.28,-112.72)\n",
      "False\n",
      "up (209.10,-144.54)\n",
      "False\n",
      "up (240.92,-176.36)\n",
      "False\n",
      "up (272.74,-208.18)\n",
      "True\n",
      "up (317.74,-208.18)\n",
      "True\n",
      "up (362.74,-208.18)\n",
      "True"
     ]
    }
   ],
   "source": [
    "lab10()"
   ]
  },
  {
   "cell_type": "code",
   "execution_count": null,
   "metadata": {
    "collapsed": true
   },
   "outputs": [],
   "source": [
    "t1.home()\n",
    "t1.clear()"
   ]
  },
  {
   "cell_type": "markdown",
   "metadata": {},
   "source": [
    "* 사각형 범위"
   ]
  },
  {
   "cell_type": "code",
   "execution_count": 1,
   "metadata": {
    "collapsed": true
   },
   "outputs": [],
   "source": [
    "coord=[(100,100),(200,200)]"
   ]
  },
  {
   "cell_type": "code",
   "execution_count": 2,
   "metadata": {
    "collapsed": false
   },
   "outputs": [
    {
     "name": "stdout",
     "output_type": "stream",
     "text": [
      "100\n"
     ]
    }
   ],
   "source": [
    "print coord[0][1]"
   ]
  },
  {
   "cell_type": "code",
   "execution_count": 3,
   "metadata": {
    "collapsed": true
   },
   "outputs": [],
   "source": [
    "x1=coord[0][0]"
   ]
  },
  {
   "cell_type": "code",
   "execution_count": 4,
   "metadata": {
    "collapsed": true
   },
   "outputs": [],
   "source": [
    "y1=coord[0][1]"
   ]
  },
  {
   "cell_type": "code",
   "execution_count": 5,
   "metadata": {
    "collapsed": true
   },
   "outputs": [],
   "source": [
    "x2=coord[1][0]"
   ]
  },
  {
   "cell_type": "code",
   "execution_count": 6,
   "metadata": {
    "collapsed": true
   },
   "outputs": [],
   "source": [
    "y2=coord[1][1]"
   ]
  },
  {
   "cell_type": "code",
   "execution_count": 7,
   "metadata": {
    "collapsed": true
   },
   "outputs": [],
   "source": [
    "curpos=(0,0)"
   ]
  },
  {
   "cell_type": "code",
   "execution_count": 16,
   "metadata": {
    "collapsed": true
   },
   "outputs": [],
   "source": [
    "x=curpos[0]"
   ]
  },
  {
   "cell_type": "code",
   "execution_count": 9,
   "metadata": {
    "collapsed": false
   },
   "outputs": [
    {
     "data": {
      "text/plain": [
       "False"
      ]
     },
     "execution_count": 9,
     "metadata": {},
     "output_type": "execute_result"
    }
   ],
   "source": [
    "x1<=x<=x2"
   ]
  },
  {
   "cell_type": "code",
   "execution_count": 17,
   "metadata": {
    "collapsed": true
   },
   "outputs": [],
   "source": [
    "y=curpos[1]"
   ]
  },
  {
   "cell_type": "code",
   "execution_count": 11,
   "metadata": {
    "collapsed": false
   },
   "outputs": [
    {
     "data": {
      "text/plain": [
       "False"
      ]
     },
     "execution_count": 11,
     "metadata": {},
     "output_type": "execute_result"
    }
   ],
   "source": [
    "y1<=y<=y2"
   ]
  },
  {
   "cell_type": "code",
   "execution_count": 18,
   "metadata": {
    "collapsed": false
   },
   "outputs": [
    {
     "data": {
      "text/plain": [
       "True"
      ]
     },
     "execution_count": 18,
     "metadata": {},
     "output_type": "execute_result"
    }
   ],
   "source": [
    "x1<=x<=x2 and y1<=y<=y2"
   ]
  },
  {
   "cell_type": "code",
   "execution_count": 13,
   "metadata": {
    "collapsed": true
   },
   "outputs": [],
   "source": [
    "curpos=(150,150)"
   ]
  },
  {
   "cell_type": "code",
   "execution_count": 12,
   "metadata": {
    "collapsed": true
   },
   "outputs": [],
   "source": [
    "def isInRectangle(curpos, coord):\n",
    "    xs=coord[0][0]\n",
    "    xe=coord[1][0]\n",
    "    ys=coord[0][1]\n",
    "    ye=coord[1][1]\n",
    "    return abs(xs)<=abs(curpos[0])<=abs(xe) or abs(xe)<=abs(curpos[0])<=abs(xs) and abs(ys)<=abs(curpos[1])<=abs(ye) or abs(ye)<=abs(curpos[1])<=abs(ys)  "
   ]
  },
  {
   "cell_type": "code",
   "execution_count": 7,
   "metadata": {
    "collapsed": true
   },
   "outputs": [],
   "source": [
    "curpos=(-150,-150)\n",
    "coord=[(-100,-100),(-200,-200)]"
   ]
  },
  {
   "cell_type": "code",
   "execution_count": 11,
   "metadata": {
    "collapsed": false
   },
   "outputs": [
    {
     "data": {
      "text/plain": [
       "True"
      ]
     },
     "execution_count": 11,
     "metadata": {},
     "output_type": "execute_result"
    }
   ],
   "source": [
    "isInRectangle(curpos, coord)"
   ]
  },
  {
   "cell_type": "markdown",
   "metadata": {},
   "source": [
    "* 음수일 때 연산식 틀림. 해결해야함"
   ]
  },
  {
   "cell_type": "code",
   "execution_count": null,
   "metadata": {
    "collapsed": true
   },
   "outputs": [],
   "source": [
    "coord=[(396.82,-290.46), (441.82,-129.10)]"
   ]
  },
  {
   "cell_type": "code",
   "execution_count": 1,
   "metadata": {
    "collapsed": false
   },
   "outputs": [],
   "source": [
    "import turtle\n",
    "wn=turtle.Screen()"
   ]
  },
  {
   "cell_type": "code",
   "execution_count": 2,
   "metadata": {
    "collapsed": true
   },
   "outputs": [],
   "source": [
    "t1=turtle.Turtle()"
   ]
  },
  {
   "cell_type": "code",
   "execution_count": 9,
   "metadata": {
    "collapsed": true
   },
   "outputs": [],
   "source": [
    "t1.goto(350,-300)"
   ]
  },
  {
   "cell_type": "code",
   "execution_count": 10,
   "metadata": {
    "collapsed": true
   },
   "outputs": [],
   "source": [
    "t1.goto(450,-200)"
   ]
  },
  {
   "cell_type": "code",
   "execution_count": 9,
   "metadata": {
    "collapsed": true
   },
   "outputs": [],
   "source": [
    "coord=[(350,-300),(450,-200)]"
   ]
  },
  {
   "cell_type": "code",
   "execution_count": 10,
   "metadata": {
    "collapsed": true
   },
   "outputs": [],
   "source": [
    "curpos=(356,-250)"
   ]
  },
  {
   "cell_type": "markdown",
   "metadata": {},
   "source": [
    "* 거북이가 선을 밟았는지 알려주기"
   ]
  },
  {
   "cell_type": "code",
   "execution_count": 5,
   "metadata": {
    "collapsed": false
   },
   "outputs": [
    {
     "name": "stdout",
     "output_type": "stream",
     "text": [
      "True\n"
     ]
    }
   ],
   "source": [
    "line1=[(50,100),(150,100)]\n",
    "\n",
    "xy=(70,100)\n",
    "\n",
    "x1=line1[0][0]-1\n",
    "y1=line1[0][1]-1\n",
    "x2=line1[1][0]+1\n",
    "y2=line1[1][1]+1\n",
    "x=xy[0]\n",
    "y=xy[1]\n",
    "print x1<=x<=x2 and y1<=y<=y2"
   ]
  },
  {
   "cell_type": "code",
   "execution_count": 13,
   "metadata": {
    "collapsed": true
   },
   "outputs": [],
   "source": [
    "def isOnLine(point,line):\n",
    "    x1=line[0][0]-1\n",
    "    y1=line[0][1]-1\n",
    "    x2=line[1][0]+1\n",
    "    y2=line[1][1]+1\n",
    "    x=point[0]\n",
    "    y=point[1]\n",
    "    point=(x,y)\n",
    "    return isInRectangle(point,[(x1,y1),(x2,y2)])"
   ]
  },
  {
   "cell_type": "code",
   "execution_count": 14,
   "metadata": {
    "collapsed": false
   },
   "outputs": [
    {
     "data": {
      "text/plain": [
       "True"
      ]
     },
     "execution_count": 14,
     "metadata": {},
     "output_type": "execute_result"
    }
   ],
   "source": [
    "isOnLine(xy,line1)"
   ]
  },
  {
   "cell_type": "markdown",
   "metadata": {},
   "source": [
    "* 거북이가 원에 들어갓는지 알려주기"
   ]
  },
  {
   "cell_type": "code",
   "execution_count": 16,
   "metadata": {
    "collapsed": false
   },
   "outputs": [],
   "source": [
    "import turtle\n",
    "wn=turtle.Screen()\n",
    "t1=turtle.Turtle()"
   ]
  },
  {
   "cell_type": "code",
   "execution_count": 21,
   "metadata": {
    "collapsed": true
   },
   "outputs": [],
   "source": [
    "t1.circle(100)"
   ]
  },
  {
   "cell_type": "markdown",
   "metadata": {},
   "source": [
    "* 중심 (0,25)"
   ]
  },
  {
   "cell_type": "code",
   "execution_count": 20,
   "metadata": {
    "collapsed": true
   },
   "outputs": [],
   "source": [
    "t1.clear()"
   ]
  },
  {
   "cell_type": "code",
   "execution_count": 30,
   "metadata": {
    "collapsed": true
   },
   "outputs": [],
   "source": [
    "t1.write(t1.pos())"
   ]
  },
  {
   "cell_type": "code",
   "execution_count": 23,
   "metadata": {
    "collapsed": true
   },
   "outputs": [],
   "source": [
    "t1.setpos(100,100)"
   ]
  },
  {
   "cell_type": "code",
   "execution_count": 25,
   "metadata": {
    "collapsed": true
   },
   "outputs": [],
   "source": [
    "t1.setpos(0,200)"
   ]
  },
  {
   "cell_type": "code",
   "execution_count": 27,
   "metadata": {
    "collapsed": true
   },
   "outputs": [],
   "source": [
    "t1.setpos(-100,100)"
   ]
  },
  {
   "cell_type": "code",
   "execution_count": 29,
   "metadata": {
    "collapsed": true
   },
   "outputs": [],
   "source": [
    "t1.setpos(0,100)"
   ]
  },
  {
   "cell_type": "code",
   "execution_count": 31,
   "metadata": {
    "collapsed": true
   },
   "outputs": [],
   "source": [
    "import math"
   ]
  },
  {
   "cell_type": "code",
   "execution_count": 33,
   "metadata": {
    "collapsed": false
   },
   "outputs": [
    {
     "name": "stdout",
     "output_type": "stream",
     "text": [
      "3.0\n",
      "9.0\n"
     ]
    }
   ],
   "source": [
    "print math.sqrt(9)\n",
    "print math.pow(3,2)"
   ]
  },
  {
   "cell_type": "code",
   "execution_count": 37,
   "metadata": {
    "collapsed": true
   },
   "outputs": [],
   "source": [
    "center=(0,100)\n",
    "curpos=(0,80)"
   ]
  },
  {
   "cell_type": "code",
   "execution_count": 35,
   "metadata": {
    "collapsed": true
   },
   "outputs": [],
   "source": [
    "def distance(curpos,center):\n",
    "    return math.sqrt(math.pow(center[0]-curpos[0],2)+math.pow(center[1]-curpos[1],2))"
   ]
  },
  {
   "cell_type": "code",
   "execution_count": 38,
   "metadata": {
    "collapsed": false
   },
   "outputs": [
    {
     "data": {
      "text/plain": [
       "20.0"
      ]
     },
     "execution_count": 38,
     "metadata": {},
     "output_type": "execute_result"
    }
   ],
   "source": [
    "distance(curpos,center)"
   ]
  },
  {
   "cell_type": "code",
   "execution_count": 43,
   "metadata": {
    "collapsed": true
   },
   "outputs": [],
   "source": [
    "def isInCircle(curpos,radius,pos):\n",
    "    center=(pos[0],pos[1]+radius)\n",
    "    return distance(curpos,center)<=radius"
   ]
  },
  {
   "cell_type": "code",
   "execution_count": 41,
   "metadata": {
    "collapsed": true
   },
   "outputs": [],
   "source": [
    "curpos=(0,80)\n",
    "radius=100\n",
    "pos=(0,0)"
   ]
  },
  {
   "cell_type": "code",
   "execution_count": 44,
   "metadata": {
    "collapsed": false
   },
   "outputs": [
    {
     "data": {
      "text/plain": [
       "True"
      ]
     },
     "execution_count": 44,
     "metadata": {},
     "output_type": "execute_result"
    }
   ],
   "source": [
    "isInCircle(curpos,radius,pos)"
   ]
  },
  {
   "cell_type": "code",
   "execution_count": null,
   "metadata": {
    "collapsed": true
   },
   "outputs": [],
   "source": []
  },
  {
   "cell_type": "code",
   "execution_count": null,
   "metadata": {
    "collapsed": true
   },
   "outputs": [],
   "source": []
  }
 ],
 "metadata": {
  "kernelspec": {
   "display_name": "Python 2",
   "language": "python",
   "name": "python2"
  },
  "language_info": {
   "codemirror_mode": {
    "name": "ipython",
    "version": 2
   },
   "file_extension": ".py",
   "mimetype": "text/x-python",
   "name": "python",
   "nbconvert_exporter": "python",
   "pygments_lexer": "ipython2",
   "version": "2.7.10"
  }
 },
 "nbformat": 4,
 "nbformat_minor": 0
}
