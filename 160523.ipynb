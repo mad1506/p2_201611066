{
 "cells": [
  {
   "cell_type": "code",
   "execution_count": 1,
   "metadata": {
    "collapsed": false
   },
   "outputs": [
    {
     "name": "stdout",
     "output_type": "stream",
     "text": [
      "Writing jsl.txt\n"
     ]
    }
   ],
   "source": [
    "%%writefile jsl.txt\n",
    "Python is a widely used high-level, general-purpose, interpreted,\n",
    "dynamic programming language.[23][24]\n",
    "Its design philosophy emphasizes code readability, and\n",
    "its syntax allows programmers to express concepts in fewer lines of code\n",
    "than would be possible in languages such as C++ or Java.[25][26]\n",
    "The language provides constructs intended to enable clear programs on\n",
    "both a small and large scale.[27]"
   ]
  },
  {
   "cell_type": "code",
   "execution_count": null,
   "metadata": {
    "collapsed": true
   },
   "outputs": [],
   "source": [
    "# %load jsl.txt\n",
    "Python is a widely used high-level, general-purpose, interpreted,\n",
    "dynamic programming language.[23][24]\n",
    "Its design philosophy emphasizes code readability, and\n",
    "its syntax allows programmers to express concepts in fewer lines of code\n",
    "than would be possible in languages such as C++ or Java.[25][26]\n",
    "The language provides constructs intended to enable clear programs on\n",
    "both a small and large scale.[27]"
   ]
  },
  {
   "cell_type": "markdown",
   "metadata": {},
   "source": [
    "## 운영체제와 파일\n",
    "\n",
    "* 디렉토리\n",
    "    * 윈도우 : 드라이브 C:\\, 구분자(delimiter) \\, 파일명에 공백\n",
    "    * 리눅스 : 구분자 /\n",
    "* 상대경로 vs 절대경로\n",
    "    * . 현재 디렉토리\n",
    "    * .. 상위 디렉토리"
   ]
  },
  {
   "cell_type": "code",
   "execution_count": 3,
   "metadata": {
    "collapsed": false
   },
   "outputs": [
    {
     "name": "stdout",
     "output_type": "stream",
     "text": [
      "C:\\Users\\P400\n"
     ]
    }
   ],
   "source": [
    "import os\n",
    "mydir=os.getcwd()\n",
    "print mydir"
   ]
  },
  {
   "cell_type": "code",
   "execution_count": 5,
   "metadata": {
    "collapsed": false
   },
   "outputs": [
    {
     "name": "stdout",
     "output_type": "stream",
     "text": [
      " C 드라이브의 볼륨에는 이름이 없습니다.\n",
      " 볼륨 일련 번호: 7C3A-0B6D\n",
      "\n",
      " C:\\Users\\P400 디렉터리\n",
      "\n",
      "2016-05-23  오후 02:34    <DIR>          .\n",
      "2016-05-23  오후 02:34    <DIR>          ..\n",
      "2016-04-27  오후 05:43            13,461 .bash_history\n",
      "2015-09-09  오후 12:09    <DIR>          .continuum\n",
      "2016-04-27  오후 05:43             1,183 .drjava\n",
      "2016-04-20  오후 01:25               139 .gitconfig\n",
      "2016-05-23  오후 02:06    <DIR>          .ipynb_checkpoints\n",
      "2015-09-09  오후 01:45    <DIR>          .ipython\n",
      "2015-09-15  오후 12:48    <DIR>          .jupyter\n",
      "2016-05-09  오후 03:35    <DIR>          .matplotlib\n",
      "2014-02-12  오후 12:45    <DIR>          .nbi\n",
      "2015-11-09  오후 05:16    <DIR>          .spss\n",
      "2016-04-18  오후 12:23    <DIR>          .ssh\n",
      "2015-09-14  오후 07:23    <DIR>          .VirtualBox\n",
      "2016-05-02  오후 03:50            19,717 160502.ipynb\n",
      "2016-05-04  오후 01:52            15,078 160504.ipynb\n",
      "2016-05-09  오후 03:50            10,899 160509.ipynb\n",
      "2016-05-16  오후 03:34            15,268 160516.ipynb\n",
      "2016-05-23  오후 02:34             3,371 160523.ipynb\n",
      "2016-04-05  오후 03:27    <DIR>          Aptana Rubles\n",
      "2016-03-07  오후 02:43    <DIR>          Contacts\n",
      "2016-05-16  오후 12:19    <DIR>          Desktop\n",
      "2016-05-23  오후 01:50    <DIR>          Documents\n",
      "2016-05-16  오후 03:37    <DIR>          Downloads\n",
      "2016-03-07  오후 02:43    <DIR>          Favorites\n",
      "2016-05-23  오후 02:18               406 jsl.txt\n",
      "2016-03-07  오후 02:43    <DIR>          Links\n",
      "2016-03-07  오후 02:43    <DIR>          Music\n",
      "2016-05-16  오후 02:13           245,314 myMaze.gif\n",
      "2016-03-07  오후 02:43    <DIR>          Pictures\n",
      "2016-03-07  오후 02:43    <DIR>          Saved Games\n",
      "2016-03-07  오후 02:43    <DIR>          Searches\n",
      "2016-04-27  오후 02:39             1,946 Untitled.ipynb\n",
      "2016-04-27  오후 02:27                72 Untitled1.ipynb\n",
      "2016-04-27  오후 03:23             1,237 Untitled10.ipynb\n",
      "2016-04-27  오후 03:25             1,148 Untitled11.ipynb\n",
      "2016-04-27  오후 03:27             1,100 Untitled12.ipynb\n",
      "2016-04-27  오후 03:32             1,163 Untitled13.ipynb\n",
      "2016-05-02  오후 01:44            11,288 Untitled14.ipynb\n",
      "2016-05-02  오후 01:05             7,212 Untitled15.ipynb\n",
      "2016-05-02  오후 02:32             4,561 Untitled16.ipynb\n",
      "2016-05-04  오후 01:10                72 Untitled17.ipynb\n",
      "2016-05-04  오후 01:12                72 Untitled18.ipynb\n",
      "2016-05-04  오후 01:21             6,790 Untitled19.ipynb\n",
      "2016-04-27  오후 02:38             1,525 Untitled2.ipynb\n",
      "2016-05-09  오후 12:18               753 Untitled20.ipynb\n",
      "2016-05-09  오후 01:25            10,544 Untitled21.ipynb\n",
      "2016-05-09  오후 01:52             2,919 Untitled22.ipynb\n",
      "2016-05-11  오후 02:58             1,035 Untitled23.ipynb\n",
      "2016-05-16  오후 01:15             1,166 Untitled24.ipynb\n",
      "2016-05-16  오후 12:21                72 Untitled25.ipynb\n",
      "2016-05-16  오후 01:22             1,075 Untitled26.ipynb\n",
      "2016-05-16  오후 01:26                72 Untitled27.ipynb\n",
      "2016-05-16  오후 01:37             2,059 Untitled28.ipynb\n",
      "2016-04-27  오후 03:08             1,258 Untitled3.ipynb\n",
      "2016-04-27  오후 02:49             2,772 Untitled4.ipynb\n",
      "2016-04-27  오후 03:05             1,491 Untitled5.ipynb\n",
      "2016-04-27  오후 03:07             3,789 Untitled6.ipynb\n",
      "2016-04-27  오후 03:13               790 Untitled7.ipynb\n",
      "2016-04-27  오후 03:39             2,345 Untitled8.ipynb\n",
      "2016-04-27  오후 03:21             3,748 Untitled9.ipynb\n",
      "2016-05-23  오후 12:14    <DIR>          Videos\n",
      "2015-09-14  오후 07:18    <DIR>          VirtualBox VMs\n",
      "2016-05-09  오후 02:47             1,659 w10Main.ipynb\n",
      "2016-05-16  오후 03:03             2,353 w11Main.ipynb\n",
      "2016-05-02  오후 03:15             1,643 w8Main.ipynb\n",
      "2016-03-10  오전 11:28    <DIR>          workspace\n",
      "              42개 파일             404,565 바이트\n",
      "              25개 디렉터리  214,761,259,008 바이트 남음\n"
     ]
    }
   ],
   "source": [
    "ls"
   ]
  },
  {
   "cell_type": "code",
   "execution_count": 6,
   "metadata": {
    "collapsed": false
   },
   "outputs": [
    {
     "data": {
      "text/plain": [
       "True"
      ]
     },
     "execution_count": 6,
     "metadata": {},
     "output_type": "execute_result"
    }
   ],
   "source": [
    "os.path.isfile('jsl.txt')"
   ]
  },
  {
   "cell_type": "code",
   "execution_count": 7,
   "metadata": {
    "collapsed": false
   },
   "outputs": [
    {
     "data": {
      "text/plain": [
       "False"
      ]
     },
     "execution_count": 7,
     "metadata": {},
     "output_type": "execute_result"
    }
   ],
   "source": [
    "os.path.isfile('nomae.txt')"
   ]
  },
  {
   "cell_type": "code",
   "execution_count": 12,
   "metadata": {
    "collapsed": false
   },
   "outputs": [
    {
     "data": {
      "text/plain": [
       "True"
      ]
     },
     "execution_count": 12,
     "metadata": {},
     "output_type": "execute_result"
    }
   ],
   "source": [
    "os.path.isfile('c:\\users\\p400\\jsl.txt')\n",
    "# 안좋은 방식 리눅스에서 \\ <<는 다른 의미가 있음. escapecharacter \\n 줄바꿈"
   ]
  },
  {
   "cell_type": "code",
   "execution_count": 9,
   "metadata": {
    "collapsed": false
   },
   "outputs": [
    {
     "data": {
      "text/plain": [
       "True"
      ]
     },
     "execution_count": 9,
     "metadata": {},
     "output_type": "execute_result"
    }
   ],
   "source": [
    "os.path.isfile('c:/users/p400/jsl.txt')"
   ]
  },
  {
   "cell_type": "code",
   "execution_count": 10,
   "metadata": {
    "collapsed": false
   },
   "outputs": [
    {
     "data": {
      "text/plain": [
       "True"
      ]
     },
     "execution_count": 10,
     "metadata": {},
     "output_type": "execute_result"
    }
   ],
   "source": [
    "os.path.isfile('c:\\\\users\\\\p400\\\\jsl.txt')"
   ]
  },
  {
   "cell_type": "code",
   "execution_count": 14,
   "metadata": {
    "collapsed": false
   },
   "outputs": [
    {
     "name": "stdout",
     "output_type": "stream",
     "text": [
      "C:\\Users\\P400\\jsl.txt\n"
     ]
    }
   ],
   "source": [
    "mydir=os.getcwd()\n",
    "filename='jsl.txt'\n",
    "myfilename=os.path.join(mydir, filename)\n",
    "print myfilename\n",
    "# 제일 좋은 방식"
   ]
  },
  {
   "cell_type": "code",
   "execution_count": 17,
   "metadata": {
    "collapsed": false
   },
   "outputs": [],
   "source": [
    "myfile=open('jsl.txt')\n",
    "line=myfile.readline()\n",
    "myfile.close()\n",
    "# 상대경로"
   ]
  },
  {
   "cell_type": "code",
   "execution_count": 18,
   "metadata": {
    "collapsed": false
   },
   "outputs": [
    {
     "name": "stdout",
     "output_type": "stream",
     "text": [
      "Python is a widely used high-level, general-purpose, interpreted,\n",
      "\n"
     ]
    }
   ],
   "source": [
    "print line"
   ]
  },
  {
   "cell_type": "code",
   "execution_count": 19,
   "metadata": {
    "collapsed": true
   },
   "outputs": [],
   "source": [
    "myfile=open('c:/users/p400/jsl.txt')\n",
    "line=myfile.readline()\n",
    "myfile.close()\n",
    "# 절대경로"
   ]
  },
  {
   "cell_type": "code",
   "execution_count": 20,
   "metadata": {
    "collapsed": false
   },
   "outputs": [
    {
     "name": "stdout",
     "output_type": "stream",
     "text": [
      "Python is a widely used high-level, general-purpose, interpreted,\n",
      "\n"
     ]
    }
   ],
   "source": [
    "print line"
   ]
  },
  {
   "cell_type": "code",
   "execution_count": 21,
   "metadata": {
    "collapsed": true
   },
   "outputs": [],
   "source": [
    "mydir=os.getcwd()\n",
    "filename='jsl.txt'\n",
    "myfilename=os.path.join(mydir, filename)\n",
    "myfile=open(myfilename)\n",
    "line=myfile.readline()\n",
    "myfile.close()\n",
    "# 제일 좋은 방식(운영체제 자동으로 인식하는 방식)"
   ]
  },
  {
   "cell_type": "code",
   "execution_count": 22,
   "metadata": {
    "collapsed": false
   },
   "outputs": [
    {
     "name": "stdout",
     "output_type": "stream",
     "text": [
      "Python is a widely used high-level, general-purpose, interpreted,\n",
      "\n"
     ]
    }
   ],
   "source": [
    "print line"
   ]
  },
  {
   "cell_type": "code",
   "execution_count": 23,
   "metadata": {
    "collapsed": false
   },
   "outputs": [
    {
     "name": "stdout",
     "output_type": "stream",
     "text": [
      "Python is a widely used high-level, general-purpose, interpreted,\n",
      "\n",
      "dynamic programming language.[23][24]\n",
      "\n",
      "Its design philosophy emphasizes code readability, and\n",
      "\n",
      "its syntax allows programmers to express concepts in fewer lines of code\n",
      "\n",
      "than would be possible in languages such as C++ or Java.[25][26]\n",
      "\n",
      "The language provides constructs intended to enable clear programs on\n",
      "\n",
      "both a small and large scale.[27]\n"
     ]
    }
   ],
   "source": [
    "mydir=os.getcwd()\n",
    "filename='jsl.txt'\n",
    "myfilename=os.path.join(mydir, filename)\n",
    "myfile=open(myfilename)\n",
    "for line in myfile:\n",
    "    print line\n",
    "myfile.close()"
   ]
  },
  {
   "cell_type": "code",
   "execution_count": 24,
   "metadata": {
    "collapsed": false
   },
   "outputs": [
    {
     "data": {
      "text/plain": [
       "file"
      ]
     },
     "execution_count": 24,
     "metadata": {},
     "output_type": "execute_result"
    }
   ],
   "source": [
    "type(myfile)"
   ]
  },
  {
   "cell_type": "code",
   "execution_count": 30,
   "metadata": {
    "collapsed": false
   },
   "outputs": [
    {
     "name": "stdout",
     "output_type": "stream",
     "text": [
      "Python is a widely used high-level, general-purpose, interpreted,\n",
      "\n",
      "dynamic programming language.[23][24]\n",
      "\n",
      "Its design philosophy emphasizes code readability, and\n",
      "\n",
      "its syntax allows programmers to express concepts in fewer lines of code\n",
      "\n",
      "than would be possible in languages such as C++ or Java.[25][26]\n",
      "\n",
      "The language provides constructs intended to enable clear programs on\n",
      "\n",
      "both a small and large scale.[27]\n"
     ]
    }
   ],
   "source": [
    "myfile=open(myfilename)\n",
    "for line in range(0,7):\n",
    "    line=myfile.readline()\n",
    "    print line\n",
    "myfile.close()"
   ]
  },
  {
   "cell_type": "code",
   "execution_count": 31,
   "metadata": {
    "collapsed": false
   },
   "outputs": [
    {
     "name": "stdout",
     "output_type": "stream",
     "text": [
      "Python is a widely used high-level, general-purpose, interpreted,\n",
      "dynamic programming language.[23][24]\n",
      "Its design philosophy emphasizes code readability, and\n",
      "its syntax allows programmers to express concepts in fewer lines of code\n",
      "than would be possible in languages such as C++ or Java.[25][26]\n",
      "The language provides constructs intended to enable clear programs on\n",
      "both a small and large scale.[27]\n"
     ]
    }
   ],
   "source": [
    "myfile=open(myfilename, 'r')  # read, write, append\n",
    "contents=myfile.read()\n",
    "myfile.close()\n",
    "print contents"
   ]
  },
  {
   "cell_type": "code",
   "execution_count": 32,
   "metadata": {
    "collapsed": false
   },
   "outputs": [
    {
     "name": "stdout",
     "output_type": "stream",
     "text": [
      "['Python is a widely used high-level, general-purpose, interpreted,\\n', 'dynamic programming language.[23][24]\\n', 'Its design philosophy emphasizes code readability, and\\n', 'its syntax allows programmers to express concepts in fewer lines of code\\n', 'than would be possible in languages such as C++ or Java.[25][26]\\n', 'The language provides constructs intended to enable clear programs on\\n', 'both a small and large scale.[27]']\n"
     ]
    }
   ],
   "source": [
    "myfile=open(myfilename, 'r')  # read, write, append\n",
    "contents=myfile.readlines()\n",
    "myfile.close()\n",
    "print contents\n",
    "# read() 전체 읽기 readline() 한줄 읽기 readlines() 전첸데 자료구조 list"
   ]
  },
  {
   "cell_type": "code",
   "execution_count": 33,
   "metadata": {
    "collapsed": false
   },
   "outputs": [
    {
     "data": {
      "text/plain": [
       "list"
      ]
     },
     "execution_count": 33,
     "metadata": {},
     "output_type": "execute_result"
    }
   ],
   "source": [
    "type(contents)"
   ]
  },
  {
   "cell_type": "code",
   "execution_count": 36,
   "metadata": {
    "collapsed": false
   },
   "outputs": [
    {
     "name": "stdout",
     "output_type": "stream",
     "text": [
      "Python is a widely used high-level, general-purpose, interpreted,\n",
      "\n",
      "dynamic programming language.[23][24]\n",
      "\n",
      "Its design philosophy emphasizes code readability, and\n",
      "\n",
      "its syntax allows programmers to express concepts in fewer lines of code\n",
      "\n",
      "than would be possible in languages such as C++ or Java.[25][26]\n",
      "\n",
      "The language provides constructs intended to enable clear programs on\n",
      "\n",
      "both a small and large scale.[27]\n"
     ]
    }
   ],
   "source": [
    "for i in contents:\n",
    "    print i"
   ]
  },
  {
   "cell_type": "markdown",
   "metadata": {},
   "source": [
    "### 과제"
   ]
  },
  {
   "cell_type": "code",
   "execution_count": null,
   "metadata": {
    "collapsed": true
   },
   "outputs": [],
   "source": [
    "import os\n",
    "mydir=os.getcwd()\n",
    "filename='jsl.txt'\n",
    "myfilename=os.path.join(mydir, filename)\n",
    "myfile=open(myfilename, 'r')  # read, write, append\n",
    "contents=myfile.readlines()\n",
    "myfile.close()\n",
    "print contents"
   ]
  },
  {
   "cell_type": "code",
   "execution_count": null,
   "metadata": {
    "collapsed": true
   },
   "outputs": [],
   "source": [
    "mystr=\"Today is hot\"\n",
    "print mystr.find('Today') # 0이상이면 존재 & 위치 표시\n",
    "print mystr.find('today') # -1은 없는 값\n",
    "print mystr.find('hot')\n",
    "print mystr.find('day')"
   ]
  },
  {
   "cell_type": "code",
   "execution_count": null,
   "metadata": {
    "collapsed": true
   },
   "outputs": [],
   "source": [
    "for i in contents:\n",
    "    if i.find('Python') >=0:\n",
    "        print i"
   ]
  },
  {
   "cell_type": "markdown",
   "metadata": {},
   "source": [
    "오류처리도 추가해서 1번과제"
   ]
  },
  {
   "cell_type": "markdown",
   "metadata": {},
   "source": [
    "## 오류 처리"
   ]
  },
  {
   "cell_type": "code",
   "execution_count": 39,
   "metadata": {
    "collapsed": false
   },
   "outputs": [
    {
     "ename": "IOError",
     "evalue": "[Errno 2] No such file or directory: 'noname.txt'",
     "output_type": "error",
     "traceback": [
      "\u001b[1;31m---------------------------------------------------------------------------\u001b[0m",
      "\u001b[1;31mIOError\u001b[0m                                   Traceback (most recent call last)",
      "\u001b[1;32m<ipython-input-39-04b785cd330f>\u001b[0m in \u001b[0;36m<module>\u001b[1;34m()\u001b[0m\n\u001b[1;32m----> 1\u001b[1;33m \u001b[0mmyfile\u001b[0m\u001b[1;33m=\u001b[0m\u001b[0mopen\u001b[0m\u001b[1;33m(\u001b[0m\u001b[1;34m'noname.txt'\u001b[0m\u001b[1;33m,\u001b[0m \u001b[1;34m'r'\u001b[0m\u001b[1;33m)\u001b[0m\u001b[1;33m\u001b[0m\u001b[0m\n\u001b[0m",
      "\u001b[1;31mIOError\u001b[0m: [Errno 2] No such file or directory: 'noname.txt'"
     ]
    }
   ],
   "source": [
    "myfile=open('noname.txt', 'r')"
   ]
  },
  {
   "cell_type": "code",
   "execution_count": 40,
   "metadata": {
    "collapsed": false
   },
   "outputs": [
    {
     "name": "stdout",
     "output_type": "stream",
     "text": [
      "no file\n"
     ]
    }
   ],
   "source": [
    "try:\n",
    "    myfile=open('noname.txt', 'r')\n",
    "except:\n",
    "    print \"no file\""
   ]
  },
  {
   "cell_type": "code",
   "execution_count": 41,
   "metadata": {
    "collapsed": false
   },
   "outputs": [
    {
     "name": "stdout",
     "output_type": "stream",
     "text": [
      "no file\n"
     ]
    }
   ],
   "source": [
    "try:\n",
    "    myfile=open('noname.txt', 'r')\n",
    "except IOError:\n",
    "    print \"no file\""
   ]
  },
  {
   "cell_type": "code",
   "execution_count": 42,
   "metadata": {
    "collapsed": false
   },
   "outputs": [
    {
     "name": "stdout",
     "output_type": "stream",
     "text": [
      "[Errno 2] No such file or directory: 'noname.txt'\n"
     ]
    }
   ],
   "source": [
    "try:\n",
    "    myfile=open('noname.txt', 'r')\n",
    "except IOError as e:\n",
    "    print e"
   ]
  },
  {
   "cell_type": "markdown",
   "metadata": {},
   "source": [
    "## 파일 쓰기"
   ]
  },
  {
   "cell_type": "code",
   "execution_count": 69,
   "metadata": {
    "collapsed": false
   },
   "outputs": [],
   "source": [
    "myfile=open('output.txt', 'w')\n",
    "line1='first line\\n'  # \\n 줄바꿈\n",
    "myfile.write(line1)\n",
    "line2='\\tsecond line\\n' # \\t 들여쓰기?\n",
    "myfile.write(line2)\n",
    "line3='third'\n",
    "myfile.write(line3)\n",
    "myfile.close()        # 파일 닫을 때 쓴다."
   ]
  },
  {
   "cell_type": "code",
   "execution_count": null,
   "metadata": {
    "collapsed": false
   },
   "outputs": [],
   "source": [
    "# %load output.txt\n",
    "first line\n",
    "\tsecond line\n",
    "third"
   ]
  },
  {
   "cell_type": "markdown",
   "metadata": {},
   "source": [
    "### 두번째 과제"
   ]
  },
  {
   "cell_type": "code",
   "execution_count": 66,
   "metadata": {
    "collapsed": false
   },
   "outputs": [
    {
     "name": "stdout",
     "output_type": "stream",
     "text": [
      "SANGMYUNG\n"
     ]
    }
   ],
   "source": [
    "s='sangmyung'\n",
    "print s.upper()"
   ]
  },
  {
   "cell_type": "markdown",
   "metadata": {},
   "source": [
    "파일쓰기 소문자 line >> 대문자 LINE 으로 바꿔 쓰기"
   ]
  },
  {
   "cell_type": "code",
   "execution_count": null,
   "metadata": {
    "collapsed": true
   },
   "outputs": [],
   "source": []
  },
  {
   "cell_type": "code",
   "execution_count": null,
   "metadata": {
    "collapsed": true
   },
   "outputs": [],
   "source": []
  }
 ],
 "metadata": {
  "kernelspec": {
   "display_name": "Python 2",
   "language": "python",
   "name": "python2"
  },
  "language_info": {
   "codemirror_mode": {
    "name": "ipython",
    "version": 2
   },
   "file_extension": ".py",
   "mimetype": "text/x-python",
   "name": "python",
   "nbconvert_exporter": "python",
   "pygments_lexer": "ipython2",
   "version": "2.7.10"
  }
 },
 "nbformat": 4,
 "nbformat_minor": 0
}
