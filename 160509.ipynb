{
 "cells": [
  {
   "cell_type": "code",
   "execution_count": 29,
   "metadata": {
    "collapsed": false
   },
   "outputs": [],
   "source": [
    "coffee=[\n",
    "    [\"Coffee\", \"Water\", \"Milk\", \"Icecream\"],\n",
    "    [\"Espresso\", \"No\", \"No\", \"No\"],\n",
    "    [\"Long Black\",\"Yes\",\"No\",\"No\"],\n",
    "    [\"Flat White\",\"No\",\"Yes\",\"No\"],\n",
    "    [\"Cappuccino\",\"No\",\"Yes - Frothy\",\"No\"],\n",
    "    [\"Affogato\",\"No\",\"No\",\"Yes\"],\n",
    "]"
   ]
  },
  {
   "cell_type": "code",
   "execution_count": 30,
   "metadata": {
    "collapsed": false
   },
   "outputs": [
    {
     "name": "stdout",
     "output_type": "stream",
     "text": [
      "[['Coffee', 'Water', 'Milk', 'Icecream'], ['Espresso', 'No', 'No', 'No'], ['Long Black', 'Yes', 'No', 'No'], ['Flat White', 'No', 'Yes', 'No'], ['Cappuccino', 'No', 'Yes - Frothy', 'No'], ['Affogato', 'No', 'No', 'Yes']]\n"
     ]
    }
   ],
   "source": [
    "print coffee"
   ]
  },
  {
   "cell_type": "code",
   "execution_count": 22,
   "metadata": {
    "collapsed": false
   },
   "outputs": [
    {
     "name": "stdout",
     "output_type": "stream",
     "text": [
      "2.0\n",
      "40.0 %\n"
     ]
    }
   ],
   "source": [
    "freq=0.\n",
    "for i in coffeeList:\n",
    "    if i[2]==\"No\":\n",
    "        freq=freq\n",
    "    else:\n",
    "        freq=freq+1\n",
    "print freq\n",
    "\n",
    "result=(freq/len(coffeeList))*100\n",
    "print result, \"%\""
   ]
  },
  {
   "cell_type": "code",
   "execution_count": 31,
   "metadata": {
    "collapsed": false
   },
   "outputs": [
    {
     "name": "stdout",
     "output_type": "stream",
     "text": [
      "[['Espresso', 'No', 'No', 'No'], ['Long Black', 'Yes', 'No', 'No'], ['Flat White', 'No', 'Yes', 'No'], ['Cappuccino', 'No', 'Yes - Frothy', 'No']]\n"
     ]
    }
   ],
   "source": [
    "print coffee[1:5]"
   ]
  },
  {
   "cell_type": "code",
   "execution_count": 32,
   "metadata": {
    "collapsed": true
   },
   "outputs": [],
   "source": [
    "coffeeList=coffee[1:5]"
   ]
  },
  {
   "cell_type": "code",
   "execution_count": 33,
   "metadata": {
    "collapsed": false
   },
   "outputs": [
    {
     "name": "stdout",
     "output_type": "stream",
     "text": [
      "[['Espresso', 'No', 'No', 'No'], ['Long Black', 'Yes', 'No', 'No'], ['Flat White', 'No', 'Yes', 'No'], ['Cappuccino', 'No', 'Yes - Frothy', 'No']]\n"
     ]
    }
   ],
   "source": [
    "print coffeeList"
   ]
  },
  {
   "cell_type": "code",
   "execution_count": 37,
   "metadata": {
    "collapsed": false
   },
   "outputs": [
    {
     "name": "stdout",
     "output_type": "stream",
     "text": [
      "Espresso No\n",
      "Long Black No\n",
      "Flat White Yes\n",
      "Cappuccino Yes - Frothy\n"
     ]
    }
   ],
   "source": [
    "for i in coffeeList:\n",
    "    print i[0], i[2]"
   ]
  },
  {
   "cell_type": "code",
   "execution_count": 38,
   "metadata": {
    "collapsed": false
   },
   "outputs": [
    {
     "name": "stdout",
     "output_type": "stream",
     "text": [
      "A\n",
      "a\n"
     ]
    }
   ],
   "source": [
    "print \"a\".upper()\n",
    "print \"A\".lower()"
   ]
  },
  {
   "cell_type": "markdown",
   "metadata": {},
   "source": [
    "* English 100\n",
    "* Math 200\n",
    "* English 200\n",
    "* Math 200\n",
    "* English 100\n",
    "* Math 300"
   ]
  },
  {
   "cell_type": "code",
   "execution_count": 41,
   "metadata": {
    "collapsed": false
   },
   "outputs": [
    {
     "name": "stdout",
     "output_type": "stream",
     "text": [
      "[['English', 'Math'], [100, 200], [200, 200], [100, 300]]\n"
     ]
    }
   ],
   "source": [
    "score=[\n",
    "    [\"English\", \"Math\"],\n",
    "    [100, 200],\n",
    "    [200, 200],\n",
    "    [100, 300],\n",
    "    \n",
    "]\n",
    "print score"
   ]
  },
  {
   "cell_type": "code",
   "execution_count": 49,
   "metadata": {
    "collapsed": false
   },
   "outputs": [
    {
     "name": "stdout",
     "output_type": "stream",
     "text": [
      "200\n"
     ]
    }
   ],
   "source": [
    "realScore=score[1:]\n",
    "sum=0\n",
    "for i in realScore:\n",
    "    sum=i[0]+i[0]\n",
    "print sum"
   ]
  },
  {
   "cell_type": "code",
   "execution_count": 50,
   "metadata": {
    "collapsed": false
   },
   "outputs": [
    {
     "name": "stdout",
     "output_type": "stream",
     "text": [
      "English\n",
      "Math\n",
      "English\n",
      "Math\n",
      "English\n",
      "Math\n"
     ]
    }
   ],
   "source": [
    "marks=[\n",
    "    [\"English\", 100],\n",
    "    [\"Math\", 200],\n",
    "    [\"English\", 200],\n",
    "    [\"Math\", 200],\n",
    "    [\"English\", 100],\n",
    "    [\"Math\", 300],\n",
    "\n",
    "]\n",
    "\n",
    "for i in marks:\n",
    "    print i[0]"
   ]
  },
  {
   "cell_type": "code",
   "execution_count": 58,
   "metadata": {
    "collapsed": false
   },
   "outputs": [
    {
     "name": "stdout",
     "output_type": "stream",
     "text": [
      "None\n"
     ]
    }
   ],
   "source": [
    "def sumMarks(subject):\n",
    "    for i in marks:\n",
    "        x=i[0].lower()\n",
    "        if x==\"subject\":\n",
    "            \n",
    "subject=\"math\"            \n",
    "result=sumMarks(subject)\n",
    "print result"
   ]
  },
  {
   "cell_type": "code",
   "execution_count": 66,
   "metadata": {
    "collapsed": false
   },
   "outputs": [
    {
     "ename": "TypeError",
     "evalue": "'int' object is not callable",
     "output_type": "error",
     "traceback": [
      "\u001b[1;31m---------------------------------------------------------------------------\u001b[0m",
      "\u001b[1;31mTypeError\u001b[0m                                 Traceback (most recent call last)",
      "\u001b[1;32m<ipython-input-66-16064df63a69>\u001b[0m in \u001b[0;36m<module>\u001b[1;34m()\u001b[0m\n\u001b[0;32m      4\u001b[0m         \u001b[1;32mif\u001b[0m \u001b[0mx\u001b[0m\u001b[1;33m==\u001b[0m\u001b[1;34m\"math\"\u001b[0m\u001b[1;33m:\u001b[0m\u001b[1;33m\u001b[0m\u001b[0m\n\u001b[0;32m      5\u001b[0m             \u001b[0mlist\u001b[0m\u001b[1;33m=\u001b[0m\u001b[0mi\u001b[0m\u001b[1;33m[\u001b[0m\u001b[1;36m1\u001b[0m\u001b[1;33m]\u001b[0m\u001b[1;33m\u001b[0m\u001b[0m\n\u001b[1;32m----> 6\u001b[1;33m             \u001b[0mb\u001b[0m\u001b[1;33m=\u001b[0m\u001b[0msum\u001b[0m\u001b[1;33m(\u001b[0m\u001b[0mlist\u001b[0m\u001b[1;33m)\u001b[0m\u001b[1;33m\u001b[0m\u001b[0m\n\u001b[0m\u001b[0;32m      7\u001b[0m             \u001b[1;32mprint\u001b[0m \u001b[0mb\u001b[0m\u001b[1;33m\u001b[0m\u001b[0m\n\u001b[0;32m      8\u001b[0m \u001b[1;33m\u001b[0m\u001b[0m\n",
      "\u001b[1;31mTypeError\u001b[0m: 'int' object is not callable"
     ]
    }
   ],
   "source": [
    "sum=0\n",
    "for i in marks:\n",
    "    x=i[0].lower()\n",
    "    if x==\"math\":\n",
    "        \n",
    "        b=sum(list)\n",
    "\n",
    "            "
   ]
  },
  {
   "cell_type": "code",
   "execution_count": 88,
   "metadata": {
    "collapsed": false
   },
   "outputs": [],
   "source": [
    "lyrics=[\n",
    "    \"When I find myself in times of trouble\",\n",
    "    \"Mother Mary comes to me\",\n",
    "    \"Speaking words of wisdom, let it be\",\n",
    "    \"And in my hour of darkness\",\n",
    "    \"She is standing right in front of me\",\n",
    "    \"Speaking words of wisdom, let it be\",\n",
    "    \"Let it be, let it be\",\n",
    "    \"Let it be, let it be\",\n",
    "    \"Whisper words of wisdom, let it be\",\n",
    "    \"And when the broken-hearted people\",\n",
    "    \"Living in the world agree\",\n",
    "    \"There will be an answer, let it be\",\n",
    "    \"For though they may be parted\",\n",
    "    \"There is still a chance that they will see\",\n",
    "    \"There will be an answer, let it be\",\n",
    "    \"Let it be, let it be\",\n",
    "    \"Let it be, let it be\",\n",
    "    \"Yeah, there will be an answer, let it be\",\n",
    "    \"Let it be, let it be\",\n",
    "    \"Let it be, let it be\",\n",
    "    \"Whisper words of wisdom, let it be\",\n",
    "    \"Let it be, let it be\",\n",
    "    \"Ah, let it be, yeah, let it be\",\n",
    "    \"Whisper words of wisdom, let it be\",\n",
    "    \"And when the night is cloudy\",\n",
    "    \"There is still a light that shines on me\",\n",
    "    \"Shine on until tomorrow, let it be\",\n",
    "    \"I wake up to the sound of music,\",\n",
    "    \"Mother Mary comes to me\",\n",
    "    \"Speaking words of wisdom, let it be\",\n",
    "    \"Let it be, let it be\",\n",
    "    \"Let it be, yeah, let it be\",\n",
    "    \"Oh, there will be an answer, let it be\",\n",
    "    \"Let it be, let it be\",\n",
    "    \"Let it be, yeah, let it be\",\n",
    "    \"Whisper words of wisdom, let it be\",\n",
    "]"
   ]
  },
  {
   "cell_type": "code",
   "execution_count": 111,
   "metadata": {
    "collapsed": false
   },
   "outputs": [
    {
     "name": "stdout",
     "output_type": "stream",
     "text": [
      "[1, 1, 1, 1, 2, 1, 29, 2, 4, 4, 1, 36, 4, 1, 4, 1, 1, 2, 4, 1, 2, 2, 3, 1, 1, 1, 12, 1, 2, 1, 1, 7, 3, 2, 11, 1, 1, 1, 3, 1, 1, 1, 2, 1, 1, 1, 25, 1, 7, 2, 1, 1, 1, 4, 2, 1, 1, 11, 1, 1, 1, 5, 3, 4, 1, 4, 1, 1, 2]\n",
      "[1, 1, 1, 1, 2, 1, 29, 2, 4, 4, 1, 36, 4, 1, 4, 1, 1, 2, 4, 1, 2, 2, 3, 1, 1, 1, 12, 1, 2, 1, 1, 7, 3, 2, 11, 1, 1, 1, 3, 1, 1, 1, 2, 1, 1, 1, 25, 1, 7, 2, 1, 1, 1, 4, 2, 1, 1, 11, 1, 1, 1, 5, 3, 4, 1, 4, 1, 1, 2]\n",
      "[1, 1, 1, 1, 2, 1, 29, 2, 4, 4, 1, 36, 4, 1, 4, 1, 1, 2, 4, 1, 2, 2, 3, 1, 1, 1, 12, 1, 2, 1, 1, 7, 3, 2, 11, 1, 1, 1, 3, 1, 1, 1, 2, 1, 1, 1, 25, 1, 7, 2, 1, 1, 1, 4, 2, 1, 1, 11, 1, 1, 1, 5, 3, 4, 1, 4, 1, 1, 2]\n"
     ]
    }
   ],
   "source": [
    "doc=lyrics\n",
    "d=dict()\n",
    "for line in doc:\n",
    "    words=line.split()\n",
    "    for c in words:\n",
    "        if c not in d:\n",
    "            d[c]=1\n",
    "        else:\n",
    "            d[c]=d[c]+1\n",
    "for k in range(0,len(d.values())):\n",
    "    if d.values()[k]>=20:\n",
    "        print d.values()"
   ]
  },
  {
   "cell_type": "code",
   "execution_count": null,
   "metadata": {
    "collapsed": true
   },
   "outputs": [],
   "source": []
  },
  {
   "cell_type": "code",
   "execution_count": null,
   "metadata": {
    "collapsed": true
   },
   "outputs": [],
   "source": []
  }
 ],
 "metadata": {
  "kernelspec": {
   "display_name": "Python 2",
   "language": "python",
   "name": "python2"
  },
  "language_info": {
   "codemirror_mode": {
    "name": "ipython",
    "version": 2
   },
   "file_extension": ".py",
   "mimetype": "text/x-python",
   "name": "python",
   "nbconvert_exporter": "python",
   "pygments_lexer": "ipython2",
   "version": "2.7.10"
  }
 },
 "nbformat": 4,
 "nbformat_minor": 0
}
